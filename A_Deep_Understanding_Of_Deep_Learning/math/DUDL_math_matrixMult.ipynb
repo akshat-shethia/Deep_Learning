{
 "cells": [
  {
   "cell_type": "markdown",
   "metadata": {
    "id": "bhWV8oes-wKR"
   },
   "source": [
    "# COURSE: A deep understanding of deep learning\n",
    "## SECTION: Math prerequisites\n",
    "### LECTURE: Matrix multiplication\n",
    "#### TEACHER: Mike X Cohen, sincxpress.com\n",
    "##### COURSE URL: udemy.com/course/deeplearning_x/?couponCode=202401"
   ]
  },
  {
   "cell_type": "code",
   "execution_count": 1,
   "metadata": {
    "id": "vRQNyNtlDoOb"
   },
   "outputs": [],
   "source": [
    "# import libraries\n",
    "import numpy as np\n",
    "import torch"
   ]
  },
  {
   "cell_type": "markdown",
   "metadata": {
    "id": "K0BSQG0fDpt_"
   },
   "source": [
    "# Using numpy"
   ]
  },
  {
   "cell_type": "code",
   "execution_count": 2,
   "metadata": {
    "id": "T4_veEYqDpx9"
   },
   "outputs": [
    {
     "name": "stdout",
     "output_type": "stream",
     "text": [
      "[[ 2.3   2.    3.93 -2.61  1.29]\n",
      " [-2.01 -1.97 -2.74  0.98 -0.68]\n",
      " [ 0.06  0.71 -1.99  3.86 -1.68]]\n",
      " \n",
      "[[-0.05 -0.94  1.73 -1.04]\n",
      " [-1.24 -0.66  1.64 -0.95]\n",
      " [-0.21 -0.89  1.75 -1.  ]\n",
      " [-1.3   3.27 -5.91  3.27]\n",
      " [-4.54  2.56 -3.88  1.85]\n",
      " [ 0.16  0.93 -1.83  1.03]\n",
      " [-2.23  0.05  0.48 -0.39]]\n"
     ]
    }
   ],
   "source": [
    "# create some random matrices\n",
    "A = np.random.randn(3,4)\n",
    "B = np.random.randn(4,5)\n",
    "C = np.random.randn(3,7)\n",
    "\n",
    "# try some multiplications...\n",
    "print(np.round( A@B   ,2)), print(' ')\n",
    "# print(np.round( A@C   ,2)), print(' ')\n",
    "# print(np.round( B@C   ,2)), print(' ')\n",
    "print(np.round( C.T@A ,2))"
   ]
  },
  {
   "cell_type": "markdown",
   "metadata": {
    "id": "89qsNy19Dp1U"
   },
   "source": [
    "# Using pytorch"
   ]
  },
  {
   "cell_type": "code",
   "execution_count": 3,
   "metadata": {
    "id": "4Yrdf4WOEjxz"
   },
   "outputs": [
    {
     "name": "stdout",
     "output_type": "stream",
     "text": [
      "tensor([[ 1.6300,  0.4400, -0.6300,  0.1400, -2.0600, -0.1100, -1.4200],\n",
      "        [ 0.3300,  1.3500, -1.1500, -0.8400, -0.8200, -1.0900,  0.3700],\n",
      "        [-0.1900,  0.7000, -0.6100, -0.2200, -1.2400, -0.6600,  1.0800]],\n",
      "       dtype=torch.float64)\n",
      " \n",
      "tensor([[ 1.6300,  0.4400, -0.6300,  0.1400, -2.0600, -0.1100, -1.4200],\n",
      "        [ 0.3300,  1.3500, -1.1500, -0.8400, -0.8200, -1.0900,  0.3700],\n",
      "        [-0.1900,  0.7000, -0.6100, -0.2200, -1.2400, -0.6600,  1.0800]])\n"
     ]
    }
   ],
   "source": [
    "# create some random matrices\n",
    "A  = torch.randn(3,4)\n",
    "B  = torch.randn(4,5)\n",
    "C1 = np.random.randn(4,7)\n",
    "C2 = torch.tensor( C1,dtype=torch.float )\n",
    "\n",
    "# try some multiplications...\n",
    "# print(np.round( A@B   ,2)), print(' ')\n",
    "# print(np.round( A@B.T ,2)), print(' ')\n",
    "print(np.round( A@C1  ,2)), print(' ') # Pytorch tensor * numpy ndarray\n",
    "print(np.round( A@C2  ,2))"
   ]
  }
 ],
 "metadata": {
  "colab": {
   "authorship_tag": "ABX9TyN3xNttY0efRLiZkxgkBGe2",
   "collapsed_sections": [],
   "name": "DUDL_math_matrixMult.ipynb",
   "provenance": []
  },
  "kernelspec": {
   "display_name": "Python 3",
   "name": "python3"
  },
  "language_info": {
   "codemirror_mode": {
    "name": "ipython",
    "version": 3
   },
   "file_extension": ".py",
   "mimetype": "text/x-python",
   "name": "python",
   "nbconvert_exporter": "python",
   "pygments_lexer": "ipython3",
   "version": "3.12.5"
  }
 },
 "nbformat": 4,
 "nbformat_minor": 0
}
