{
 "cells": [
  {
   "cell_type": "code",
   "execution_count": 1,
   "metadata": {},
   "outputs": [],
   "source": [
    "import tensorflow as tf"
   ]
  },
  {
   "cell_type": "code",
   "execution_count": 2,
   "metadata": {},
   "outputs": [
    {
     "name": "stdout",
     "output_type": "stream",
     "text": [
      "tf.Tensor(4, shape=(), dtype=int32)\n"
     ]
    }
   ],
   "source": [
    "tensor_zero_dimensional = tf.constant(4) # Using .constant() to create a zero dimensional vector \n",
    "print(tensor_zero_dimensional)"
   ]
  },
  {
   "cell_type": "code",
   "execution_count": 3,
   "metadata": {},
   "outputs": [
    {
     "name": "stdout",
     "output_type": "stream",
     "text": [
      "tf.Tensor([1 2 3 4 5], shape=(5,), dtype=int32)\n"
     ]
    }
   ],
   "source": [
    "tensor_one_dimensional = tf.constant([1,2,3,4,5]) # Using .constant(   [...]   ) to create a one dimensional vector \n",
    "print(tensor_one_dimensional)"
   ]
  },
  {
   "cell_type": "code",
   "execution_count": 4,
   "metadata": {},
   "outputs": [
    {
     "name": "stdout",
     "output_type": "stream",
     "text": [
      "tf.Tensor([1. 2. 3. 4. 5.], shape=(5,), dtype=float32)\n"
     ]
    }
   ],
   "source": [
    "tensor_one_dimensional = tf.constant([1,2,3,4,5.]) # Using .constant(    [...]    ) to create a one dimensional vector \n",
    "print(tensor_one_dimensional)"
   ]
  },
  {
   "cell_type": "code",
   "execution_count": 5,
   "metadata": {},
   "outputs": [
    {
     "name": "stdout",
     "output_type": "stream",
     "text": [
      "tf.Tensor(\n",
      "[[ 1  2  3  4  5]\n",
      " [ 6  7  8  9 10]], shape=(2, 5), dtype=int32)\n"
     ]
    }
   ],
   "source": [
    "tensor_two_dimensional = tf.constant([\n",
    "    [1,2,3,4,5],\n",
    "    [6,7,8,9,10]\n",
    "    ]) # Using .constant(   [    [...], [...]    ]    ) to create a two dimensional vector \n",
    "print(tensor_two_dimensional)"
   ]
  },
  {
   "cell_type": "code",
   "execution_count": 6,
   "metadata": {},
   "outputs": [
    {
     "name": "stdout",
     "output_type": "stream",
     "text": [
      "tf.Tensor(\n",
      "[[[ 1  2  3  4  5]\n",
      "  [ 6  7  8  9 10]]\n",
      "\n",
      " [[ 1  2  3  4  5]\n",
      "  [ 6  7  8  9 10]]], shape=(2, 2, 5), dtype=int32)\n"
     ]
    }
   ],
   "source": [
    "\n",
    "tensor_three_dimensional = tf.constant(\n",
    "    [\n",
    "        [   # First 2D array\n",
    "            [1, 2, 3, 4, 5],\n",
    "            [6, 7, 8, 9, 10]\n",
    "        ],\n",
    "        [   # Second 2D array\n",
    "            [1, 2, 3, 4, 5],\n",
    "            [6, 7, 8, 9, 10]\n",
    "        ]\n",
    "    ]\n",
    ")\n",
    "# Using .constant(     [     [  [...], [...]  ], [  [...], [...]  ]     ]     ) to create a three dimensional vector \n",
    "print(tensor_three_dimensional)"
   ]
  },
  {
   "cell_type": "code",
   "execution_count": 7,
   "metadata": {},
   "outputs": [
    {
     "data": {
      "text/plain": [
       "[0, 1, 2, 3]"
      ]
     },
     "execution_count": 7,
     "metadata": {},
     "output_type": "execute_result"
    }
   ],
   "source": [
    "l = [tensor_zero_dimensional.ndim, tensor_one_dimensional.ndim, tensor_two_dimensional.ndim, tensor_three_dimensional.ndim]\n",
    "l"
   ]
  },
  {
   "cell_type": "code",
   "execution_count": 8,
   "metadata": {},
   "outputs": [
    {
     "name": "stdout",
     "output_type": "stream",
     "text": [
      "tf.Tensor([1 2 3 4 5], shape=(5,), dtype=int16)\n"
     ]
    }
   ],
   "source": [
    "tensor_one_dimensional = tf.constant([1,2,3,4,5.], dtype = tf.float32) \n",
    "tensor_one_dimensional = tf.cast(tensor_one_dimensional, dtype = tf.int16) \n",
    "# Cast method can change the dtype of the tensor\n",
    "print(tensor_one_dimensional)"
   ]
  },
  {
   "cell_type": "code",
   "execution_count": 9,
   "metadata": {},
   "outputs": [
    {
     "data": {
      "text/plain": [
       "<tf.Tensor: shape=(3,), dtype=int16, numpy=array([1, 0, 1], dtype=int16)>"
      ]
     },
     "execution_count": 9,
     "metadata": {},
     "output_type": "execute_result"
    }
   ],
   "source": [
    "tensor_bool = tf.constant([True, False, True])\n",
    "casted_tensor_bool = tf.cast(tensor_bool, dtype = tf.int16)\n",
    "casted_tensor_bool"
   ]
  },
  {
   "cell_type": "code",
   "execution_count": 10,
   "metadata": {},
   "outputs": [
    {
     "data": {
      "text/plain": [
       "<tf.Tensor: shape=(2,), dtype=string, numpy=array([b'Hello', b'World'], dtype=object)>"
      ]
     },
     "execution_count": 10,
     "metadata": {},
     "output_type": "execute_result"
    }
   ],
   "source": [
    "tensor_string = tf.constant([\"Hello\", \"World\"])\n",
    "tensor_string"
   ]
  },
  {
   "cell_type": "code",
   "execution_count": 11,
   "metadata": {},
   "outputs": [],
   "source": [
    "import numpy as np"
   ]
  },
  {
   "cell_type": "code",
   "execution_count": 12,
   "metadata": {},
   "outputs": [
    {
     "data": {
      "text/plain": [
       "<tf.Tensor: shape=(4,), dtype=int32, numpy=array([1, 2, 3, 4])>"
      ]
     },
     "execution_count": 12,
     "metadata": {},
     "output_type": "execute_result"
    }
   ],
   "source": [
    "np_array = np.array([1,2,3,4])\n",
    "converted_tensor = tf.convert_to_tensor(np_array)\n",
    "converted_tensor"
   ]
  },
  {
   "cell_type": "code",
   "execution_count": 13,
   "metadata": {},
   "outputs": [
    {
     "data": {
      "text/plain": [
       "<tf.Tensor: shape=(5, 5), dtype=float32, numpy=\n",
       "array([[1., 0., 0., 0., 0.],\n",
       "       [0., 1., 0., 0., 0.],\n",
       "       [0., 0., 1., 0., 0.],\n",
       "       [0., 0., 0., 1., 0.],\n",
       "       [0., 0., 0., 0., 1.]], dtype=float32)>"
      ]
     },
     "execution_count": 13,
     "metadata": {},
     "output_type": "execute_result"
    }
   ],
   "source": [
    "# Use the .eye() function to create an identity matrix\n",
    "eye_tensor = tf.eye(\n",
    "    num_rows = 5,\n",
    "    num_columns=None,\n",
    "    batch_shape=None,\n",
    "    dtype=tf.float32,\n",
    "    name=None,\n",
    ")\n",
    "\n",
    "eye_tensor"
   ]
  },
  {
   "cell_type": "code",
   "execution_count": 14,
   "metadata": {},
   "outputs": [
    {
     "data": {
      "text/plain": [
       "<tf.Tensor: shape=(5, 5), dtype=bool, numpy=\n",
       "array([[ True, False, False, False, False],\n",
       "       [False,  True, False, False, False],\n",
       "       [False, False,  True, False, False],\n",
       "       [False, False, False,  True, False],\n",
       "       [False, False, False, False,  True]])>"
      ]
     },
     "execution_count": 14,
     "metadata": {},
     "output_type": "execute_result"
    }
   ],
   "source": [
    "# Use the .eye() function to create an identity matrix\n",
    "eye_tensor_bool = tf.eye(\n",
    "    num_rows = 5,\n",
    "    num_columns=None,\n",
    "    batch_shape=None,\n",
    "    dtype=tf.bool,\n",
    "    name=None,\n",
    ")\n",
    "\n",
    "eye_tensor_bool"
   ]
  },
  {
   "cell_type": "code",
   "execution_count": 15,
   "metadata": {},
   "outputs": [
    {
     "data": {
      "text/plain": [
       "<tf.Tensor: shape=(3, 3, 3), dtype=int32, numpy=\n",
       "array([[[1, 0, 0],\n",
       "        [0, 1, 0],\n",
       "        [0, 0, 1]],\n",
       "\n",
       "       [[1, 0, 0],\n",
       "        [0, 1, 0],\n",
       "        [0, 0, 1]],\n",
       "\n",
       "       [[1, 0, 0],\n",
       "        [0, 1, 0],\n",
       "        [0, 0, 1]]])>"
      ]
     },
     "execution_count": 15,
     "metadata": {},
     "output_type": "execute_result"
    }
   ],
   "source": [
    "# Use the .eye() function to create an identity matrix\n",
    "eye_tensor = tf.eye(\n",
    "    num_rows = 3,\n",
    "    num_columns=None,\n",
    "    batch_shape=[3],\n",
    "    dtype=tf.int32,\n",
    "    name=None,\n",
    ")\n",
    "\n",
    "eye_tensor"
   ]
  },
  {
   "cell_type": "code",
   "execution_count": 16,
   "metadata": {},
   "outputs": [
    {
     "data": {
      "text/plain": [
       "<tf.Tensor: shape=(3, 5), dtype=int32, numpy=\n",
       "array([[9, 9, 9, 9, 9],\n",
       "       [9, 9, 9, 9, 9],\n",
       "       [9, 9, 9, 9, 9]])>"
      ]
     },
     "execution_count": 16,
     "metadata": {},
     "output_type": "execute_result"
    }
   ],
   "source": [
    "fill_tensor = tf.fill(dims = [3,5], value = 9, name=None, layout=None)\n",
    "fill_tensor"
   ]
  },
  {
   "cell_type": "code",
   "execution_count": 17,
   "metadata": {},
   "outputs": [
    {
     "data": {
      "text/plain": [
       "<tf.Tensor: shape=(5, 3), dtype=float32, numpy=\n",
       "array([[1., 1., 1.],\n",
       "       [1., 1., 1.],\n",
       "       [1., 1., 1.],\n",
       "       [1., 1., 1.],\n",
       "       [1., 1., 1.]], dtype=float32)>"
      ]
     },
     "execution_count": 17,
     "metadata": {},
     "output_type": "execute_result"
    }
   ],
   "source": [
    "ones_tensor = tf.ones(shape = [5,3], dtype=tf.float32, name=None, layout=None)\n",
    "ones_tensor"
   ]
  },
  {
   "cell_type": "code",
   "execution_count": 18,
   "metadata": {},
   "outputs": [
    {
     "data": {
      "text/plain": [
       "<tf.Tensor: shape=(3, 5), dtype=int32, numpy=\n",
       "array([[1, 1, 1, 1, 1],\n",
       "       [1, 1, 1, 1, 1],\n",
       "       [1, 1, 1, 1, 1]])>"
      ]
     },
     "execution_count": 18,
     "metadata": {},
     "output_type": "execute_result"
    }
   ],
   "source": [
    "ones_like_tensor = tf.ones_like(fill_tensor)\n",
    "ones_like_tensor"
   ]
  },
  {
   "cell_type": "code",
   "execution_count": 19,
   "metadata": {},
   "outputs": [
    {
     "data": {
      "text/plain": [
       "<tf.Tensor: shape=(5, 3), dtype=float32, numpy=\n",
       "array([[0., 0., 0.],\n",
       "       [0., 0., 0.],\n",
       "       [0., 0., 0.],\n",
       "       [0., 0., 0.],\n",
       "       [0., 0., 0.]], dtype=float32)>"
      ]
     },
     "execution_count": 19,
     "metadata": {},
     "output_type": "execute_result"
    }
   ],
   "source": [
    "zeros_tensor = tf.zeros(shape = [5,3], dtype=tf.float32, name=None, layout=None)\n",
    "zeros_tensor"
   ]
  },
  {
   "cell_type": "code",
   "execution_count": 20,
   "metadata": {},
   "outputs": [
    {
     "data": {
      "text/plain": [
       "<tf.Tensor: shape=(3, 5), dtype=int32, numpy=\n",
       "array([[0, 0, 0, 0, 0],\n",
       "       [0, 0, 0, 0, 0],\n",
       "       [0, 0, 0, 0, 0]])>"
      ]
     },
     "execution_count": 20,
     "metadata": {},
     "output_type": "execute_result"
    }
   ],
   "source": [
    "zeros_like_tensor = tf.zeros_like(fill_tensor)\n",
    "zeros_like_tensor"
   ]
  },
  {
   "cell_type": "code",
   "execution_count": 21,
   "metadata": {},
   "outputs": [
    {
     "data": {
      "text/plain": [
       "TensorShape([3, 5])"
      ]
     },
     "execution_count": 21,
     "metadata": {},
     "output_type": "execute_result"
    }
   ],
   "source": [
    "zeros_like_tensor.shape"
   ]
  },
  {
   "cell_type": "code",
   "execution_count": 22,
   "metadata": {},
   "outputs": [
    {
     "data": {
      "text/plain": [
       "<tf.Tensor: shape=(2,), dtype=int32, numpy=array([3, 5])>"
      ]
     },
     "execution_count": 22,
     "metadata": {},
     "output_type": "execute_result"
    }
   ],
   "source": [
    "tf.shape(zeros_like_tensor) # shape = (2, )"
   ]
  },
  {
   "cell_type": "code",
   "execution_count": 23,
   "metadata": {},
   "outputs": [
    {
     "data": {
      "text/plain": [
       "<tf.Tensor: shape=(), dtype=int32, numpy=2>"
      ]
     },
     "execution_count": 23,
     "metadata": {},
     "output_type": "execute_result"
    }
   ],
   "source": [
    "tf.rank(zeros_like_tensor)"
   ]
  },
  {
   "cell_type": "code",
   "execution_count": 24,
   "metadata": {},
   "outputs": [
    {
     "data": {
      "text/plain": [
       "<tf.Tensor: shape=(), dtype=int32, numpy=15>"
      ]
     },
     "execution_count": 24,
     "metadata": {},
     "output_type": "execute_result"
    }
   ],
   "source": [
    "tf.size(zeros_like_tensor) # Size = 15"
   ]
  },
  {
   "cell_type": "code",
   "execution_count": 25,
   "metadata": {},
   "outputs": [
    {
     "data": {
      "text/plain": [
       "<tf.Tensor: shape=(3, 2), dtype=float32, numpy=\n",
       "array([[-1.2566372 , -1.1396443 ],\n",
       "       [ 0.02446574, -0.22933859],\n",
       "       [ 0.7483923 ,  0.18490826]], dtype=float32)>"
      ]
     },
     "execution_count": 25,
     "metadata": {},
     "output_type": "execute_result"
    }
   ],
   "source": [
    "random_tensor = tf.random.normal(\n",
    "    shape = [3,2],\n",
    "    mean=0.0,\n",
    "    stddev=1.0,\n",
    "    dtype=tf.float32,\n",
    "    seed=None,\n",
    "    name=None,\n",
    ")\n",
    "random_tensor"
   ]
  },
  {
   "cell_type": "code",
   "execution_count": 26,
   "metadata": {},
   "outputs": [
    {
     "data": {
      "text/plain": [
       "<tf.Tensor: shape=(5, 3), dtype=float32, numpy=\n",
       "array([[72.447845 , 60.205795 , 36.918427 ],\n",
       "       [11.475968 , 42.354893 , 29.615105 ],\n",
       "       [55.14251  , 43.00376  , 13.032842 ],\n",
       "       [67.86127  , 53.155327 ,  1.1221766],\n",
       "       [50.677917 , 60.631157 , 12.646079 ]], dtype=float32)>"
      ]
     },
     "execution_count": 26,
     "metadata": {},
     "output_type": "execute_result"
    }
   ],
   "source": [
    "random_tensor_uniform = tf.random.uniform(\n",
    "    shape = [5,3],\n",
    "    minval=0,\n",
    "    maxval=100,\n",
    "    dtype=tf.float32,\n",
    "    seed=None,\n",
    "    name=None,\n",
    ")\n",
    "random_tensor_uniform"
   ]
  },
  {
   "cell_type": "code",
   "execution_count": 27,
   "metadata": {},
   "outputs": [
    {
     "name": "stdout",
     "output_type": "stream",
     "text": [
      "tf.Tensor(\n",
      "[[41.63028 ]\n",
      " [26.858162]], shape=(2, 1), dtype=float32)\n",
      "tf.Tensor(\n",
      "[[16.06157 ]\n",
      " [88.118576]], shape=(2, 1), dtype=float32)\n",
      "tf.Tensor(\n",
      "[[91.72338 ]\n",
      " [99.724106]], shape=(2, 1), dtype=float32)\n",
      "tf.Tensor(\n",
      "[[78.463554]\n",
      " [35.660732]], shape=(2, 1), dtype=float32)\n"
     ]
    }
   ],
   "source": [
    "tf.random.set_seed(42)\n",
    "print(tf.random.uniform(shape = [2,1],minval=0,maxval=100,dtype=tf.float32,seed=42,name=None))\n",
    "print(tf.random.uniform(shape = [2,1],minval=0,maxval=100,dtype=tf.float32,seed=42,name=None))\n",
    "print(tf.random.uniform(shape = [2,1],minval=0,maxval=100,dtype=tf.float32,seed=42,name=None))\n",
    "print(tf.random.uniform(shape = [2,1],minval=0,maxval=100,dtype=tf.float32,seed=42,name=None))"
   ]
  },
  {
   "cell_type": "code",
   "execution_count": 28,
   "metadata": {},
   "outputs": [
    {
     "name": "stdout",
     "output_type": "stream",
     "text": [
      "tf.Tensor(\n",
      "[[32.075645]\n",
      " [62.67551 ]], shape=(2, 1), dtype=float32)\n",
      "tf.Tensor(\n",
      "[[19.502281]\n",
      " [54.075386]], shape=(2, 1), dtype=float32)\n",
      "tf.Tensor(\n",
      "[[ 4.6827674]\n",
      " [64.59448  ]], shape=(2, 1), dtype=float32)\n",
      "tf.Tensor(\n",
      "[[96.50926 ]\n",
      " [ 9.065187]], shape=(2, 1), dtype=float32)\n"
     ]
    }
   ],
   "source": [
    "print(tf.random.uniform(shape = [2,1],minval=0,maxval=100,dtype=tf.float32,seed=41,name=None))\n",
    "print(tf.random.uniform(shape = [2,1],minval=0,maxval=100,dtype=tf.float32,seed=41,name=None))\n",
    "print(tf.random.uniform(shape = [2,1],minval=0,maxval=100,dtype=tf.float32,seed=41,name=None))\n",
    "print(tf.random.uniform(shape = [2,1],minval=0,maxval=100,dtype=tf.float32,seed=41,name=None))"
   ]
  },
  {
   "cell_type": "code",
   "execution_count": 29,
   "metadata": {},
   "outputs": [
    {
     "name": "stdout",
     "output_type": "stream",
     "text": [
      "tf.Tensor(2, shape=(), dtype=int32)\n"
     ]
    }
   ],
   "source": [
    "tensor_indexed = tf.constant([0,1,2,3,4,5,6,7,8,9])\n",
    "print(tensor_indexed[2])"
   ]
  },
  {
   "cell_type": "code",
   "execution_count": 30,
   "metadata": {},
   "outputs": [
    {
     "name": "stdout",
     "output_type": "stream",
     "text": [
      "tf.Tensor(2, shape=(), dtype=int32)\n"
     ]
    }
   ],
   "source": [
    "tensor_indexed = tf.constant([[0, 1, 2, 3, 4],\n",
    "                               [5, 6, 7, 8, 9],\n",
    "                               [10, 11, 12, 13, 14]])\n",
    "print(tensor_indexed[0][2])"
   ]
  },
  {
   "cell_type": "code",
   "execution_count": 31,
   "metadata": {},
   "outputs": [
    {
     "name": "stdout",
     "output_type": "stream",
     "text": [
      "tf.Tensor([ 4  9 14], shape=(3,), dtype=int32)\n"
     ]
    }
   ],
   "source": [
    "print(tensor_indexed[:,4])"
   ]
  },
  {
   "cell_type": "code",
   "execution_count": 32,
   "metadata": {},
   "outputs": [
    {
     "name": "stdout",
     "output_type": "stream",
     "text": [
      "tf.Tensor([ 4  9 14], shape=(3,), dtype=int32)\n"
     ]
    }
   ],
   "source": [
    "print(tensor_indexed[...,4])"
   ]
  },
  {
   "cell_type": "code",
   "execution_count": 33,
   "metadata": {},
   "outputs": [
    {
     "name": "stdout",
     "output_type": "stream",
     "text": [
      "tf.Tensor([10 11 12 13 14], shape=(5,), dtype=int32)\n"
     ]
    }
   ],
   "source": [
    "print(tensor_indexed[2,...])"
   ]
  },
  {
   "cell_type": "code",
   "execution_count": 34,
   "metadata": {},
   "outputs": [
    {
     "name": "stdout",
     "output_type": "stream",
     "text": [
      "tf.Tensor([0 1 2 3 4], shape=(5,), dtype=int32)\n"
     ]
    }
   ],
   "source": [
    "x = tf.constant([0, -1, 2, -3, 4])\n",
    "print(tf.abs(x))"
   ]
  },
  {
   "cell_type": "code",
   "execution_count": 35,
   "metadata": {},
   "outputs": [
    {
     "name": "stdout",
     "output_type": "stream",
     "text": [
      "tf.Tensor(5.0, shape=(), dtype=float64)\n"
     ]
    }
   ],
   "source": [
    "x = tf.constant(3+4j)\n",
    "print(tf.abs(x))"
   ]
  },
  {
   "cell_type": "code",
   "execution_count": 36,
   "metadata": {},
   "outputs": [
    {
     "name": "stdout",
     "output_type": "stream",
     "text": [
      "(1, 6)\n",
      "(3, 1)\n",
      "tf.Tensor(\n",
      "[[35. 21. 42. 42. 28. 42.]\n",
      " [25. 15. 30. 30. 20. 30.]\n",
      " [15.  9. 18. 18. 12. 18.]], shape=(3, 6), dtype=float32)\n"
     ]
    }
   ],
   "source": [
    "x_1 = tf.constant([[5,3,6,6,4,6]], dtype = tf.float32)\n",
    "x_2 = tf.constant([[7], [5], [3]], dtype = tf.float32)\n",
    "\n",
    "print(x_1.shape)\n",
    "print(x_2.shape)\n",
    "print(tf.math.multiply(x_1, x_2))"
   ]
  },
  {
   "cell_type": "code",
   "execution_count": 37,
   "metadata": {},
   "outputs": [
    {
     "name": "stdout",
     "output_type": "stream",
     "text": [
      "(3, 5)\n",
      "tf.Tensor([0 3 3], shape=(3,), dtype=int64)\n"
     ]
    }
   ],
   "source": [
    "x_argmax = tf.constant([[2, 20, 30, 3, 6],\n",
    "                        [3, 11, 16, 1, 8],\n",
    "                        [14, 45, 23, 5, 27]])\n",
    "\n",
    "print(x_argmax.shape)\n",
    "print(tf.math.argmin(x_argmax, axis = 1))"
   ]
  },
  {
   "cell_type": "code",
   "execution_count": 38,
   "metadata": {},
   "outputs": [
    {
     "name": "stdout",
     "output_type": "stream",
     "text": [
      "tf.Tensor(0, shape=(), dtype=int64)\n"
     ]
    }
   ],
   "source": [
    "x_argmax = tf.constant([200, 120, 130, 3, 6])\n",
    "print(tf.math.argmax(x_argmax))"
   ]
  },
  {
   "cell_type": "code",
   "execution_count": 39,
   "metadata": {},
   "outputs": [
    {
     "name": "stdout",
     "output_type": "stream",
     "text": [
      "(4, 3)\n",
      "tf.Tensor([[ 0.829  2.861 41.38 ]], shape=(1, 3), dtype=float16)\n"
     ]
    }
   ],
   "source": [
    "tensor_two_d = tf.constant([[1,-2,0],\n",
    "                            [3,5,100],\n",
    "                            [1,5,6],\n",
    "                            [2,3,8]], dtype = tf.float16)\n",
    "print(tensor_two_d.shape)\n",
    "\n",
    "print(tf.math.reduce_std(tensor_two_d, axis=0, keepdims=True, name=None))"
   ]
  },
  {
   "cell_type": "code",
   "execution_count": 40,
   "metadata": {},
   "outputs": [
    {
     "data": {
      "text/plain": [
       "TopKV2(values=<tf.Tensor: shape=(4, 2), dtype=float16, numpy=\n",
       "array([[  1.,   0.],\n",
       "       [100.,   5.],\n",
       "       [  6.,   5.],\n",
       "       [  8.,   3.]], dtype=float16)>, indices=<tf.Tensor: shape=(4, 2), dtype=int32, numpy=\n",
       "array([[0, 2],\n",
       "       [2, 1],\n",
       "       [2, 1],\n",
       "       [2, 1]])>)"
      ]
     },
     "execution_count": 40,
     "metadata": {},
     "output_type": "execute_result"
    }
   ],
   "source": [
    "tf.math.top_k(tensor_two_d, k = 2)"
   ]
  },
  {
   "cell_type": "code",
   "execution_count": 41,
   "metadata": {},
   "outputs": [
    {
     "name": "stdout",
     "output_type": "stream",
     "text": [
      "(1, 3) (3, 2) (2, 4) (2, 3)\n",
      "tf.Tensor(\n",
      "[[ 7 18 19]\n",
      " [12 31 33]\n",
      " [-2 -5 -5]\n",
      " [ 6 16 18]], shape=(4, 3), dtype=int32)\n"
     ]
    },
    {
     "data": {
      "text/plain": [
       "<tf.Tensor: shape=(4, 3), dtype=int32, numpy=\n",
       "array([[ 7, 18, 19],\n",
       "       [12, 31, 33],\n",
       "       [-2, -5, -5],\n",
       "       [ 6, 16, 18]])>"
      ]
     },
     "execution_count": 41,
     "metadata": {},
     "output_type": "execute_result"
    }
   ],
   "source": [
    "x_1 = tf.constant([[1,2,0]])\n",
    "\n",
    "x_2 = tf.constant([[1,2],\n",
    "                  [3,5],\n",
    "                  [4,5]])\n",
    "\n",
    "x_3 = tf.constant([[1,2,0,2],\n",
    "                  [3,5,-1,2]])\n",
    "\n",
    "print(x_1.shape, x_2.shape, x_3.shape, tf.transpose(x_2).shape)\n",
    "# x_3.T = 4,2\n",
    "# x_2.T = 2,3\n",
    "print(tf.transpose(x_3)@tf.transpose(x_2))\n",
    "tf.linalg.matmul(\n",
    "    x_3, x_2, transpose_a=True, transpose_b=True, adjoint_a=False, adjoint_b=False,\n",
    "    a_is_sparse=False, b_is_sparse=False, output_type=None, name=None\n",
    ")"
   ]
  },
  {
   "cell_type": "code",
   "execution_count": null,
   "metadata": {},
   "outputs": [],
   "source": []
  },
  {
   "cell_type": "code",
   "execution_count": null,
   "metadata": {},
   "outputs": [],
   "source": []
  },
  {
   "cell_type": "code",
   "execution_count": null,
   "metadata": {},
   "outputs": [],
   "source": []
  },
  {
   "cell_type": "code",
   "execution_count": null,
   "metadata": {},
   "outputs": [],
   "source": []
  },
  {
   "cell_type": "code",
   "execution_count": null,
   "metadata": {},
   "outputs": [],
   "source": []
  },
  {
   "cell_type": "code",
   "execution_count": null,
   "metadata": {},
   "outputs": [],
   "source": []
  },
  {
   "cell_type": "code",
   "execution_count": null,
   "metadata": {},
   "outputs": [],
   "source": []
  }
 ],
 "metadata": {
  "kernelspec": {
   "display_name": "Python 3",
   "language": "python",
   "name": "python3"
  },
  "language_info": {
   "codemirror_mode": {
    "name": "ipython",
    "version": 3
   },
   "file_extension": ".py",
   "mimetype": "text/x-python",
   "name": "python",
   "nbconvert_exporter": "python",
   "pygments_lexer": "ipython3",
   "version": "3.12.5"
  }
 },
 "nbformat": 4,
 "nbformat_minor": 2
}
