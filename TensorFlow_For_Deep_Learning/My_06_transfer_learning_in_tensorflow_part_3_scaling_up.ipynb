{
 "cells": [
  {
   "cell_type": "code",
   "execution_count": 1,
   "metadata": {},
   "outputs": [],
   "source": [
    "import tensorflow as tf\n",
    "import pandas as pd\n",
    "import numpy as np\n",
    "import matplotlib.pyplot as plt"
   ]
  },
  {
   "cell_type": "code",
   "execution_count": 2,
   "metadata": {},
   "outputs": [],
   "source": [
    "# Import series of helper functions for the notebook (we've created/used these in previous notebooks)\n",
    "from helper_functions import create_tensorboard_callback, plot_loss_curves, unzip_data, compare_historys, walk_through_dir"
   ]
  },
  {
   "cell_type": "code",
   "execution_count": null,
   "metadata": {},
   "outputs": [
    {
     "name": "stderr",
     "output_type": "stream",
     "text": [
      "  % Total    % Received % Xferd  Average Speed   Time    Time     Time  Current\n",
      "                                 Dload  Upload   Total   Spent    Left  Speed\n",
      "\n",
      "  0     0    0     0    0     0      0      0 --:--:-- --:--:-- --:--:--     0\n",
      "  0 1550M    0 32884    0     0  36768      0 12:16:47 --:--:-- 12:16:47 36865\n",
      "  0 1550M    0  502k    0     0   270k      0  1:37:38  0:00:01  1:37:37  271k\n",
      "  0 1550M    0 10.9M    0     0  3790k      0  0:06:58  0:00:02  0:06:56 3793k\n",
      "  1 1550M    1 24.9M    0     0  6230k      0  0:04:14  0:00:04  0:04:10 6234k\n",
      "  2 1550M    2 32.6M    0     0  6680k      0  0:03:57  0:00:05  0:03:52 6682k\n",
      "  2 1550M    2 45.2M    0     0  7826k      0  0:03:22  0:00:05  0:03:17 9211k\n",
      "  3 1550M    3 57.1M    0     0  8345k      0  0:03:10  0:00:07  0:03:03 10.9M\n",
      "  4 1550M    4 72.2M    0     0  9403k      0  0:02:48  0:00:07  0:02:41 12.4M\n",
      "  5 1550M    5 87.3M    0     0   9.7M      0  0:02:38  0:00:08  0:02:30 12.8M\n",
      "  6 1550M    6 97.8M    0     0   9.9M      0  0:02:36  0:00:09  0:02:27 13.4M\n",
      "  7 1550M    7  110M    0     0  10.0M      0  0:02:33  0:00:10  0:02:23 12.9M\n",
      "  7 1550M    7  119M    0     0  10.0M      0  0:02:33  0:00:11  0:02:22 12.8M\n",
      "  8 1550M    8  130M    0     0   9.9M      0  0:02:35  0:00:13  0:02:22 11.1M\n",
      "  9 1550M    9  145M    0     0  10.4M      0  0:02:28  0:00:13  0:02:15 11.7M\n",
      " 10 1550M   10  158M    0     0  10.6M      0  0:02:25  0:00:14  0:02:11 12.1M\n",
      " 11 1550M   11  171M    0     0  10.7M      0  0:02:23  0:00:15  0:02:08 12.3M\n",
      " 12 1550M   12  187M    0     0  11.1M      0  0:02:19  0:00:16  0:02:03 13.6M\n",
      " 13 1550M   13  203M    0     0  11.3M      0  0:02:17  0:00:17  0:02:00 14.8M\n",
      " 13 1550M   13  215M    0     0  11.4M      0  0:02:15  0:00:18  0:01:57 14.0M\n",
      " 14 1550M   14  231M    0     0  11.6M      0  0:02:12  0:00:19  0:01:53 14.6M\n",
      " 15 1550M   15  246M    0     0  11.8M      0  0:02:11  0:00:20  0:01:51 15.0M\n",
      " 16 1550M   16  260M    0     0  11.8M      0  0:02:10  0:00:21  0:01:49 14.4M\n",
      " 17 1550M   17  275M    0     0  12.0M      0  0:02:08  0:00:22  0:01:46 14.6M\n",
      " 18 1550M   18  289M    0     0  12.0M      0  0:02:08  0:00:23  0:01:45 14.5M\n",
      " 19 1550M   19  302M    0     0  12.1M      0  0:02:07  0:00:24  0:01:43 14.0M\n",
      " 20 1550M   20  317M    0     0  12.2M      0  0:02:06  0:00:25  0:01:41 14.3M\n",
      " 21 1550M   21  329M    0     0  12.1M      0  0:02:07  0:00:27  0:01:40 13.4M\n",
      " 22 1550M   22  344M    0     0  12.3M      0  0:02:05  0:00:27  0:01:38 14.0M\n",
      " 22 1550M   22  355M    0     0  12.3M      0  0:02:05  0:00:28  0:01:37 13.4M\n",
      " 23 1550M   23  369M    0     0  12.3M      0  0:02:05  0:00:29  0:01:36 13.5M\n",
      " 24 1550M   24  385M    0     0  12.4M      0  0:02:04  0:00:30  0:01:34 13.3M\n",
      " 25 1550M   25  400M    0     0  12.5M      0  0:02:03  0:00:31  0:01:32 14.7M\n",
      " 26 1550M   26  416M    0     0  12.6M      0  0:02:02  0:00:32  0:01:30 14.3M\n",
      " 27 1550M   27  429M    0     0  12.6M      0  0:02:02  0:00:33  0:01:29 14.9M\n",
      " 28 1550M   28  442M    0     0  12.6M      0  0:02:02  0:00:34  0:01:28 14.3M\n",
      " 29 1550M   29  457M    0     0  12.7M      0  0:02:01  0:00:35  0:01:26 14.5M\n",
      " 30 1550M   30  472M    0     0  12.7M      0  0:02:01  0:00:36  0:01:25 13.9M\n",
      " 31 1550M   31  485M    0     0  12.8M      0  0:02:00  0:00:37  0:01:23 13.7M\n",
      " 32 1550M   32  499M    0     0  12.8M      0  0:02:00  0:00:38  0:01:22 13.6M\n",
      " 33 1550M   33  513M    0     0  12.8M      0  0:02:00  0:00:39  0:01:21 14.2M\n",
      " 33 1550M   33  523M    0     0  12.7M      0  0:02:01  0:00:40  0:01:21 12.9M\n",
      " 34 1550M   34  534M    0     0  12.7M      0  0:02:01  0:00:41  0:01:20 12.7M\n",
      " 34 1550M   34  540M    0     0  12.6M      0  0:02:02  0:00:42  0:01:20 11.0M\n",
      " 36 1550M   36  558M    0     0  12.7M      0  0:02:01  0:00:43  0:01:18 11.9M\n",
      " 36 1550M   36  572M    0     0  12.7M      0  0:02:01  0:00:44  0:01:17 11.9M\n",
      " 37 1550M   37  587M    0     0  12.8M      0  0:02:01  0:00:45  0:01:16 12.9M\n",
      " 38 1550M   38  602M    0     0  12.8M      0  0:02:00  0:00:46  0:01:14 13.3M\n",
      " 39 1550M   39  617M    0     0  12.8M      0  0:02:00  0:00:47  0:01:13 15.3M\n",
      " 40 1550M   40  627M    0     0  12.7M      0  0:02:01  0:00:49  0:01:12 13.1M\n",
      " 41 1550M   41  642M    0     0  12.8M      0  0:02:00  0:00:49  0:01:11 13.8M\n",
      " 42 1550M   42  659M    0     0  12.9M      0  0:02:00  0:00:51  0:01:09 13.7M\n",
      " 43 1550M   43  670M    0     0  12.9M      0  0:01:59  0:00:51  0:01:08 13.8M\n",
      " 44 1550M   44  682M    0     0  12.9M      0  0:02:00  0:00:52  0:01:08 12.9M\n",
      " 45 1550M   45  698M    0     0  12.9M      0  0:01:59  0:00:53  0:01:06 14.9M\n",
      " 46 1550M   46  714M    0     0  12.9M      0  0:01:59  0:00:55  0:01:04 13.9M\n",
      " 46 1550M   46  725M    0     0  12.9M      0  0:01:59  0:00:55  0:01:04 13.8M\n",
      " 47 1550M   47  737M    0     0  12.9M      0  0:01:59  0:00:56  0:01:03 13.2M\n",
      " 48 1550M   48  747M    0     0  12.8M      0  0:02:00  0:00:57  0:01:03 12.6M\n",
      " 48 1550M   48  754M    0     0  12.8M      0  0:02:00  0:00:58  0:01:02 11.2M\n",
      " 49 1550M   49  770M    0     0  12.8M      0  0:02:00  0:00:59  0:01:01 11.6M\n",
      " 50 1550M   50  783M    0     0  12.8M      0  0:02:00  0:01:00  0:01:00 11.5M\n",
      " 51 1550M   51  796M    0     0  12.8M      0  0:02:00  0:01:01  0:00:59 11.8M\n",
      " 52 1550M   52  811M    0     0  12.9M      0  0:02:00  0:01:02  0:00:58 13.1M\n",
      " 53 1550M   53  826M    0     0  12.9M      0  0:01:59  0:01:03  0:00:56 14.2M\n",
      " 53 1550M   53  836M    0     0  12.8M      0  0:02:00  0:01:05  0:00:55 12.7M\n",
      " 54 1550M   54  846M    0     0  12.8M      0  0:02:00  0:01:05  0:00:55 12.6M\n",
      " 55 1550M   55  859M    0     0  12.8M      0  0:02:00  0:01:06  0:00:54 12.5M\n",
      " 56 1550M   56  876M    0     0  12.9M      0  0:02:00  0:01:07  0:00:53 13.0M\n",
      " 57 1550M   57  885M    0     0  12.8M      0  0:02:00  0:01:08  0:00:52 11.9M\n",
      " 57 1550M   57  897M    0     0  12.8M      0  0:02:00  0:01:09  0:00:51 12.3M\n",
      " 58 1550M   58  906M    0     0  12.7M      0  0:02:01  0:01:10  0:00:51 11.8M\n",
      " 59 1550M   59  914M    0     0  12.7M      0  0:02:01  0:01:11  0:00:50 11.1M\n",
      " 59 1550M   59  925M    0     0  12.7M      0  0:02:02  0:01:12  0:00:50  9.8M\n",
      " 60 1550M   60  940M    0     0  12.7M      0  0:02:01  0:01:13  0:00:48 10.8M\n",
      " 61 1550M   61  955M    0     0  12.7M      0  0:02:01  0:01:14  0:00:47 11.8M\n",
      " 62 1550M   62  970M    0     0  12.7M      0  0:02:01  0:01:15  0:00:46 13.0M\n",
      " 63 1550M   63  986M    0     0  12.8M      0  0:02:00  0:01:16  0:00:44 14.0M\n",
      " 64 1550M   64  994M    0     0  12.7M      0  0:02:01  0:01:17  0:00:44 13.8M\n",
      " 64 1550M   64 1007M    0     0  12.7M      0  0:02:01  0:01:18  0:00:43 13.3M\n",
      " 65 1550M   65 1018M    0     0  12.7M      0  0:02:01  0:01:19  0:00:42 12.6M\n",
      " 66 1550M   66 1033M    0     0  12.7M      0  0:02:01  0:01:20  0:00:41 12.5M\n",
      " 67 1550M   67 1049M    0     0  12.8M      0  0:02:00  0:01:21  0:00:39 12.9M\n",
      " 68 1550M   68 1062M    0     0  12.8M      0  0:02:00  0:01:22  0:00:38 13.5M\n",
      " 69 1550M   69 1081M    0     0  12.8M      0  0:02:00  0:01:23  0:00:37 14.8M\n",
      " 70 1550M   70 1089M    0     0  12.8M      0  0:02:00  0:01:25  0:00:35 13.8M\n",
      " 70 1550M   70 1099M    0     0  12.7M      0  0:02:01  0:01:25  0:00:36 12.9M\n",
      " 71 1550M   71 1107M    0     0  12.7M      0  0:02:01  0:01:27  0:00:34 11.1M\n",
      " 72 1550M   72 1121M    0     0  12.7M      0  0:02:01  0:01:28  0:00:33 11.2M\n",
      " 73 1550M   73 1133M    0     0  12.7M      0  0:02:01  0:01:28  0:00:33 10.3M\n",
      " 73 1550M   73 1146M    0     0  12.7M      0  0:02:01  0:01:29  0:00:32 11.6M\n",
      " 74 1550M   74 1160M    0     0  12.7M      0  0:02:01  0:01:30  0:00:31 12.5M\n",
      " 75 1550M   75 1167M    0     0  12.7M      0  0:02:01  0:01:31  0:00:30 12.4M\n",
      " 76 1550M   76 1179M    0     0  12.6M      0  0:02:02  0:01:33  0:00:29 11.1M\n",
      " 76 1550M   76 1187M    0     0  12.6M      0  0:02:02  0:01:33  0:00:29 10.5M\n",
      " 77 1550M   77 1195M    0     0  12.5M      0  0:02:03  0:01:34  0:00:29 9938k\n",
      " 78 1550M   78 1211M    0     0  12.6M      0  0:02:02  0:01:35  0:00:27 10.0M\n",
      " 79 1550M   79 1226M    0     0  12.6M      0  0:02:02  0:01:36  0:00:26 11.6M\n",
      " 80 1550M   80 1241M    0     0  12.6M      0  0:02:02  0:01:37  0:00:25 13.4M\n",
      " 80 1550M   80 1251M    0     0  12.6M      0  0:02:02  0:01:38  0:00:24 12.8M\n",
      " 81 1550M   81 1265M    0     0  12.6M      0  0:02:02  0:01:40  0:00:22 13.6M\n",
      " 82 1550M   82 1275M    0     0  12.6M      0  0:02:02  0:01:40  0:00:22 12.5M\n",
      " 82 1550M   82 1283M    0     0  12.5M      0  0:02:03  0:01:41  0:00:22 11.2M\n",
      " 83 1550M   83 1296M    0     0  12.6M      0  0:02:02  0:01:42  0:00:20 11.0M\n",
      " 84 1550M   84 1304M    0     0  12.5M      0  0:02:03  0:01:43  0:00:20 10.7M\n",
      " 84 1550M   84 1314M    0     0  12.5M      0  0:02:03  0:01:44  0:00:19  9.8M\n",
      " 85 1550M   85 1323M    0     0  12.5M      0  0:02:03  0:01:45  0:00:18  9.8M\n",
      " 86 1550M   86 1338M    0     0  12.5M      0  0:02:03  0:01:46  0:00:17 11.2M\n",
      " 87 1550M   87 1353M    0     0  12.5M      0  0:02:03  0:01:47  0:00:16 11.2M\n",
      " 88 1550M   88 1366M    0     0  12.5M      0  0:02:03  0:01:48  0:00:15 12.4M\n",
      " 88 1550M   88 1376M    0     0  12.5M      0  0:02:03  0:01:49  0:00:14 12.6M\n",
      " 89 1550M   89 1386M    0     0  12.5M      0  0:02:03  0:01:50  0:00:13 12.5M\n",
      " 90 1550M   90 1401M    0     0  12.5M      0  0:02:03  0:01:51  0:00:12 12.5M\n",
      " 91 1550M   91 1411M    0     0  12.4M      0  0:02:04  0:01:52  0:00:12 11.6M\n",
      " 91 1550M   91 1422M    0     0  12.4M      0  0:02:04  0:01:53  0:00:11 11.2M\n",
      " 92 1550M   92 1433M    0     0  12.4M      0  0:02:04  0:01:54  0:00:10 11.5M\n",
      " 93 1550M   93 1449M    0     0  12.4M      0  0:02:04  0:01:56  0:00:08 11.6M\n",
      " 93 1550M   93 1456M    0     0  12.4M      0  0:02:04  0:01:56  0:00:08 11.0M\n",
      " 94 1550M   94 1471M    0     0  12.4M      0  0:02:04  0:01:57  0:00:07 12.2M\n",
      " 95 1550M   95 1482M    0     0  12.4M      0  0:02:04  0:01:59  0:00:05 11.5M\n",
      " 96 1550M   96 1497M    0     0  12.4M      0  0:02:04  0:01:59  0:00:05 12.7M\n",
      " 97 1550M   97 1512M    0     0  12.5M      0  0:02:03  0:02:00  0:00:03 13.6M\n",
      " 98 1550M   98 1523M    0     0  12.4M      0  0:02:04  0:02:02  0:00:02 12.7M\n",
      " 98 1550M   98 1531M    0     0  12.4M      0  0:02:04  0:02:02  0:00:02 11.6M\n",
      " 99 1550M   99 1547M    0     0  12.4M      0  0:02:04  0:02:03  0:00:01 13.4M\n",
      "100 1550M  100 1550M    0     0  12.5M      0  0:02:03  0:02:03 --:--:-- 12.8M\n"
     ]
    }
   ],
   "source": [
    "# Download data from Google Storage (already preformatted)\n",
    "\n",
    "# !curl -k -o 101_food_classes_10_percent.zip https://storage.googleapis.com/ztm_tf_course/food_vision/101_food_classes_10_percent.zip \n",
    "\n",
    "# unzip_data(\"101_food_classes_10_percent.zip\")\n",
    "\n",
    "train_dir = \"101_food_classes_10_percent/train/\"\n",
    "test_dir = \"101_food_classes_10_percent/test/\""
   ]
  },
  {
   "cell_type": "code",
   "execution_count": 4,
   "metadata": {},
   "outputs": [
    {
     "name": "stdout",
     "output_type": "stream",
     "text": [
      "There are 2 directories and 0 images in '101_food_classes_10_percent'.\n",
      "There are 101 directories and 0 images in '101_food_classes_10_percent\\test'.\n",
      "There are 0 directories and 250 images in '101_food_classes_10_percent\\test\\apple_pie'.\n",
      "There are 0 directories and 250 images in '101_food_classes_10_percent\\test\\baby_back_ribs'.\n",
      "There are 0 directories and 250 images in '101_food_classes_10_percent\\test\\baklava'.\n",
      "There are 0 directories and 250 images in '101_food_classes_10_percent\\test\\beef_carpaccio'.\n",
      "There are 0 directories and 250 images in '101_food_classes_10_percent\\test\\beef_tartare'.\n",
      "There are 0 directories and 250 images in '101_food_classes_10_percent\\test\\beet_salad'.\n",
      "There are 0 directories and 250 images in '101_food_classes_10_percent\\test\\beignets'.\n",
      "There are 0 directories and 250 images in '101_food_classes_10_percent\\test\\bibimbap'.\n",
      "There are 0 directories and 250 images in '101_food_classes_10_percent\\test\\bread_pudding'.\n",
      "There are 0 directories and 250 images in '101_food_classes_10_percent\\test\\breakfast_burrito'.\n",
      "There are 0 directories and 250 images in '101_food_classes_10_percent\\test\\bruschetta'.\n",
      "There are 0 directories and 250 images in '101_food_classes_10_percent\\test\\caesar_salad'.\n",
      "There are 0 directories and 250 images in '101_food_classes_10_percent\\test\\cannoli'.\n",
      "There are 0 directories and 250 images in '101_food_classes_10_percent\\test\\caprese_salad'.\n",
      "There are 0 directories and 250 images in '101_food_classes_10_percent\\test\\carrot_cake'.\n",
      "There are 0 directories and 250 images in '101_food_classes_10_percent\\test\\ceviche'.\n",
      "There are 0 directories and 250 images in '101_food_classes_10_percent\\test\\cheesecake'.\n",
      "There are 0 directories and 250 images in '101_food_classes_10_percent\\test\\cheese_plate'.\n",
      "There are 0 directories and 250 images in '101_food_classes_10_percent\\test\\chicken_curry'.\n",
      "There are 0 directories and 250 images in '101_food_classes_10_percent\\test\\chicken_quesadilla'.\n",
      "There are 0 directories and 250 images in '101_food_classes_10_percent\\test\\chicken_wings'.\n",
      "There are 0 directories and 250 images in '101_food_classes_10_percent\\test\\chocolate_cake'.\n",
      "There are 0 directories and 250 images in '101_food_classes_10_percent\\test\\chocolate_mousse'.\n",
      "There are 0 directories and 250 images in '101_food_classes_10_percent\\test\\churros'.\n",
      "There are 0 directories and 250 images in '101_food_classes_10_percent\\test\\clam_chowder'.\n",
      "There are 0 directories and 250 images in '101_food_classes_10_percent\\test\\club_sandwich'.\n",
      "There are 0 directories and 250 images in '101_food_classes_10_percent\\test\\crab_cakes'.\n",
      "There are 0 directories and 250 images in '101_food_classes_10_percent\\test\\creme_brulee'.\n",
      "There are 0 directories and 250 images in '101_food_classes_10_percent\\test\\croque_madame'.\n",
      "There are 0 directories and 250 images in '101_food_classes_10_percent\\test\\cup_cakes'.\n",
      "There are 0 directories and 250 images in '101_food_classes_10_percent\\test\\deviled_eggs'.\n",
      "There are 0 directories and 250 images in '101_food_classes_10_percent\\test\\donuts'.\n",
      "There are 0 directories and 250 images in '101_food_classes_10_percent\\test\\dumplings'.\n",
      "There are 0 directories and 250 images in '101_food_classes_10_percent\\test\\edamame'.\n",
      "There are 0 directories and 250 images in '101_food_classes_10_percent\\test\\eggs_benedict'.\n",
      "There are 0 directories and 250 images in '101_food_classes_10_percent\\test\\escargots'.\n",
      "There are 0 directories and 250 images in '101_food_classes_10_percent\\test\\falafel'.\n",
      "There are 0 directories and 250 images in '101_food_classes_10_percent\\test\\filet_mignon'.\n",
      "There are 0 directories and 250 images in '101_food_classes_10_percent\\test\\fish_and_chips'.\n",
      "There are 0 directories and 250 images in '101_food_classes_10_percent\\test\\foie_gras'.\n",
      "There are 0 directories and 250 images in '101_food_classes_10_percent\\test\\french_fries'.\n",
      "There are 0 directories and 250 images in '101_food_classes_10_percent\\test\\french_onion_soup'.\n",
      "There are 0 directories and 250 images in '101_food_classes_10_percent\\test\\french_toast'.\n",
      "There are 0 directories and 250 images in '101_food_classes_10_percent\\test\\fried_calamari'.\n",
      "There are 0 directories and 250 images in '101_food_classes_10_percent\\test\\fried_rice'.\n",
      "There are 0 directories and 250 images in '101_food_classes_10_percent\\test\\frozen_yogurt'.\n",
      "There are 0 directories and 250 images in '101_food_classes_10_percent\\test\\garlic_bread'.\n",
      "There are 0 directories and 250 images in '101_food_classes_10_percent\\test\\gnocchi'.\n",
      "There are 0 directories and 250 images in '101_food_classes_10_percent\\test\\greek_salad'.\n",
      "There are 0 directories and 250 images in '101_food_classes_10_percent\\test\\grilled_cheese_sandwich'.\n",
      "There are 0 directories and 250 images in '101_food_classes_10_percent\\test\\grilled_salmon'.\n",
      "There are 0 directories and 250 images in '101_food_classes_10_percent\\test\\guacamole'.\n",
      "There are 0 directories and 250 images in '101_food_classes_10_percent\\test\\gyoza'.\n",
      "There are 0 directories and 250 images in '101_food_classes_10_percent\\test\\hamburger'.\n",
      "There are 0 directories and 250 images in '101_food_classes_10_percent\\test\\hot_and_sour_soup'.\n",
      "There are 0 directories and 250 images in '101_food_classes_10_percent\\test\\hot_dog'.\n",
      "There are 0 directories and 250 images in '101_food_classes_10_percent\\test\\huevos_rancheros'.\n",
      "There are 0 directories and 250 images in '101_food_classes_10_percent\\test\\hummus'.\n",
      "There are 0 directories and 250 images in '101_food_classes_10_percent\\test\\ice_cream'.\n",
      "There are 0 directories and 250 images in '101_food_classes_10_percent\\test\\lasagna'.\n",
      "There are 0 directories and 250 images in '101_food_classes_10_percent\\test\\lobster_bisque'.\n",
      "There are 0 directories and 250 images in '101_food_classes_10_percent\\test\\lobster_roll_sandwich'.\n",
      "There are 0 directories and 250 images in '101_food_classes_10_percent\\test\\macaroni_and_cheese'.\n",
      "There are 0 directories and 250 images in '101_food_classes_10_percent\\test\\macarons'.\n",
      "There are 0 directories and 250 images in '101_food_classes_10_percent\\test\\miso_soup'.\n",
      "There are 0 directories and 250 images in '101_food_classes_10_percent\\test\\mussels'.\n",
      "There are 0 directories and 250 images in '101_food_classes_10_percent\\test\\nachos'.\n",
      "There are 0 directories and 250 images in '101_food_classes_10_percent\\test\\omelette'.\n",
      "There are 0 directories and 250 images in '101_food_classes_10_percent\\test\\onion_rings'.\n",
      "There are 0 directories and 250 images in '101_food_classes_10_percent\\test\\oysters'.\n",
      "There are 0 directories and 250 images in '101_food_classes_10_percent\\test\\pad_thai'.\n",
      "There are 0 directories and 250 images in '101_food_classes_10_percent\\test\\paella'.\n",
      "There are 0 directories and 250 images in '101_food_classes_10_percent\\test\\pancakes'.\n",
      "There are 0 directories and 250 images in '101_food_classes_10_percent\\test\\panna_cotta'.\n",
      "There are 0 directories and 250 images in '101_food_classes_10_percent\\test\\peking_duck'.\n",
      "There are 0 directories and 250 images in '101_food_classes_10_percent\\test\\pho'.\n",
      "There are 0 directories and 250 images in '101_food_classes_10_percent\\test\\pizza'.\n",
      "There are 0 directories and 250 images in '101_food_classes_10_percent\\test\\pork_chop'.\n",
      "There are 0 directories and 250 images in '101_food_classes_10_percent\\test\\poutine'.\n",
      "There are 0 directories and 250 images in '101_food_classes_10_percent\\test\\prime_rib'.\n",
      "There are 0 directories and 250 images in '101_food_classes_10_percent\\test\\pulled_pork_sandwich'.\n",
      "There are 0 directories and 250 images in '101_food_classes_10_percent\\test\\ramen'.\n",
      "There are 0 directories and 250 images in '101_food_classes_10_percent\\test\\ravioli'.\n",
      "There are 0 directories and 250 images in '101_food_classes_10_percent\\test\\red_velvet_cake'.\n",
      "There are 0 directories and 250 images in '101_food_classes_10_percent\\test\\risotto'.\n",
      "There are 0 directories and 250 images in '101_food_classes_10_percent\\test\\samosa'.\n",
      "There are 0 directories and 250 images in '101_food_classes_10_percent\\test\\sashimi'.\n",
      "There are 0 directories and 250 images in '101_food_classes_10_percent\\test\\scallops'.\n",
      "There are 0 directories and 250 images in '101_food_classes_10_percent\\test\\seaweed_salad'.\n",
      "There are 0 directories and 250 images in '101_food_classes_10_percent\\test\\shrimp_and_grits'.\n",
      "There are 0 directories and 250 images in '101_food_classes_10_percent\\test\\spaghetti_bolognese'.\n",
      "There are 0 directories and 250 images in '101_food_classes_10_percent\\test\\spaghetti_carbonara'.\n",
      "There are 0 directories and 250 images in '101_food_classes_10_percent\\test\\spring_rolls'.\n",
      "There are 0 directories and 250 images in '101_food_classes_10_percent\\test\\steak'.\n",
      "There are 0 directories and 250 images in '101_food_classes_10_percent\\test\\strawberry_shortcake'.\n",
      "There are 0 directories and 250 images in '101_food_classes_10_percent\\test\\sushi'.\n",
      "There are 0 directories and 250 images in '101_food_classes_10_percent\\test\\tacos'.\n",
      "There are 0 directories and 250 images in '101_food_classes_10_percent\\test\\takoyaki'.\n",
      "There are 0 directories and 250 images in '101_food_classes_10_percent\\test\\tiramisu'.\n",
      "There are 0 directories and 250 images in '101_food_classes_10_percent\\test\\tuna_tartare'.\n",
      "There are 0 directories and 250 images in '101_food_classes_10_percent\\test\\waffles'.\n",
      "There are 101 directories and 0 images in '101_food_classes_10_percent\\train'.\n",
      "There are 0 directories and 75 images in '101_food_classes_10_percent\\train\\apple_pie'.\n",
      "There are 0 directories and 75 images in '101_food_classes_10_percent\\train\\baby_back_ribs'.\n",
      "There are 0 directories and 75 images in '101_food_classes_10_percent\\train\\baklava'.\n",
      "There are 0 directories and 75 images in '101_food_classes_10_percent\\train\\beef_carpaccio'.\n",
      "There are 0 directories and 75 images in '101_food_classes_10_percent\\train\\beef_tartare'.\n",
      "There are 0 directories and 75 images in '101_food_classes_10_percent\\train\\beet_salad'.\n",
      "There are 0 directories and 75 images in '101_food_classes_10_percent\\train\\beignets'.\n",
      "There are 0 directories and 75 images in '101_food_classes_10_percent\\train\\bibimbap'.\n",
      "There are 0 directories and 75 images in '101_food_classes_10_percent\\train\\bread_pudding'.\n",
      "There are 0 directories and 75 images in '101_food_classes_10_percent\\train\\breakfast_burrito'.\n",
      "There are 0 directories and 75 images in '101_food_classes_10_percent\\train\\bruschetta'.\n",
      "There are 0 directories and 75 images in '101_food_classes_10_percent\\train\\caesar_salad'.\n",
      "There are 0 directories and 75 images in '101_food_classes_10_percent\\train\\cannoli'.\n",
      "There are 0 directories and 75 images in '101_food_classes_10_percent\\train\\caprese_salad'.\n",
      "There are 0 directories and 75 images in '101_food_classes_10_percent\\train\\carrot_cake'.\n",
      "There are 0 directories and 75 images in '101_food_classes_10_percent\\train\\ceviche'.\n",
      "There are 0 directories and 75 images in '101_food_classes_10_percent\\train\\cheesecake'.\n",
      "There are 0 directories and 75 images in '101_food_classes_10_percent\\train\\cheese_plate'.\n",
      "There are 0 directories and 75 images in '101_food_classes_10_percent\\train\\chicken_curry'.\n",
      "There are 0 directories and 75 images in '101_food_classes_10_percent\\train\\chicken_quesadilla'.\n",
      "There are 0 directories and 75 images in '101_food_classes_10_percent\\train\\chicken_wings'.\n",
      "There are 0 directories and 75 images in '101_food_classes_10_percent\\train\\chocolate_cake'.\n",
      "There are 0 directories and 75 images in '101_food_classes_10_percent\\train\\chocolate_mousse'.\n",
      "There are 0 directories and 75 images in '101_food_classes_10_percent\\train\\churros'.\n",
      "There are 0 directories and 75 images in '101_food_classes_10_percent\\train\\clam_chowder'.\n",
      "There are 0 directories and 75 images in '101_food_classes_10_percent\\train\\club_sandwich'.\n",
      "There are 0 directories and 75 images in '101_food_classes_10_percent\\train\\crab_cakes'.\n",
      "There are 0 directories and 75 images in '101_food_classes_10_percent\\train\\creme_brulee'.\n",
      "There are 0 directories and 75 images in '101_food_classes_10_percent\\train\\croque_madame'.\n",
      "There are 0 directories and 75 images in '101_food_classes_10_percent\\train\\cup_cakes'.\n",
      "There are 0 directories and 75 images in '101_food_classes_10_percent\\train\\deviled_eggs'.\n",
      "There are 0 directories and 75 images in '101_food_classes_10_percent\\train\\donuts'.\n",
      "There are 0 directories and 75 images in '101_food_classes_10_percent\\train\\dumplings'.\n",
      "There are 0 directories and 75 images in '101_food_classes_10_percent\\train\\edamame'.\n",
      "There are 0 directories and 75 images in '101_food_classes_10_percent\\train\\eggs_benedict'.\n",
      "There are 0 directories and 75 images in '101_food_classes_10_percent\\train\\escargots'.\n",
      "There are 0 directories and 75 images in '101_food_classes_10_percent\\train\\falafel'.\n",
      "There are 0 directories and 75 images in '101_food_classes_10_percent\\train\\filet_mignon'.\n",
      "There are 0 directories and 75 images in '101_food_classes_10_percent\\train\\fish_and_chips'.\n",
      "There are 0 directories and 75 images in '101_food_classes_10_percent\\train\\foie_gras'.\n",
      "There are 0 directories and 75 images in '101_food_classes_10_percent\\train\\french_fries'.\n",
      "There are 0 directories and 75 images in '101_food_classes_10_percent\\train\\french_onion_soup'.\n",
      "There are 0 directories and 75 images in '101_food_classes_10_percent\\train\\french_toast'.\n",
      "There are 0 directories and 75 images in '101_food_classes_10_percent\\train\\fried_calamari'.\n",
      "There are 0 directories and 75 images in '101_food_classes_10_percent\\train\\fried_rice'.\n",
      "There are 0 directories and 75 images in '101_food_classes_10_percent\\train\\frozen_yogurt'.\n",
      "There are 0 directories and 75 images in '101_food_classes_10_percent\\train\\garlic_bread'.\n",
      "There are 0 directories and 75 images in '101_food_classes_10_percent\\train\\gnocchi'.\n",
      "There are 0 directories and 75 images in '101_food_classes_10_percent\\train\\greek_salad'.\n",
      "There are 0 directories and 75 images in '101_food_classes_10_percent\\train\\grilled_cheese_sandwich'.\n",
      "There are 0 directories and 75 images in '101_food_classes_10_percent\\train\\grilled_salmon'.\n",
      "There are 0 directories and 75 images in '101_food_classes_10_percent\\train\\guacamole'.\n",
      "There are 0 directories and 75 images in '101_food_classes_10_percent\\train\\gyoza'.\n",
      "There are 0 directories and 75 images in '101_food_classes_10_percent\\train\\hamburger'.\n",
      "There are 0 directories and 75 images in '101_food_classes_10_percent\\train\\hot_and_sour_soup'.\n",
      "There are 0 directories and 75 images in '101_food_classes_10_percent\\train\\hot_dog'.\n",
      "There are 0 directories and 75 images in '101_food_classes_10_percent\\train\\huevos_rancheros'.\n",
      "There are 0 directories and 75 images in '101_food_classes_10_percent\\train\\hummus'.\n",
      "There are 0 directories and 75 images in '101_food_classes_10_percent\\train\\ice_cream'.\n",
      "There are 0 directories and 75 images in '101_food_classes_10_percent\\train\\lasagna'.\n",
      "There are 0 directories and 75 images in '101_food_classes_10_percent\\train\\lobster_bisque'.\n",
      "There are 0 directories and 75 images in '101_food_classes_10_percent\\train\\lobster_roll_sandwich'.\n",
      "There are 0 directories and 75 images in '101_food_classes_10_percent\\train\\macaroni_and_cheese'.\n",
      "There are 0 directories and 75 images in '101_food_classes_10_percent\\train\\macarons'.\n",
      "There are 0 directories and 75 images in '101_food_classes_10_percent\\train\\miso_soup'.\n",
      "There are 0 directories and 75 images in '101_food_classes_10_percent\\train\\mussels'.\n",
      "There are 0 directories and 75 images in '101_food_classes_10_percent\\train\\nachos'.\n",
      "There are 0 directories and 75 images in '101_food_classes_10_percent\\train\\omelette'.\n",
      "There are 0 directories and 75 images in '101_food_classes_10_percent\\train\\onion_rings'.\n",
      "There are 0 directories and 75 images in '101_food_classes_10_percent\\train\\oysters'.\n",
      "There are 0 directories and 75 images in '101_food_classes_10_percent\\train\\pad_thai'.\n",
      "There are 0 directories and 75 images in '101_food_classes_10_percent\\train\\paella'.\n",
      "There are 0 directories and 75 images in '101_food_classes_10_percent\\train\\pancakes'.\n",
      "There are 0 directories and 75 images in '101_food_classes_10_percent\\train\\panna_cotta'.\n",
      "There are 0 directories and 75 images in '101_food_classes_10_percent\\train\\peking_duck'.\n",
      "There are 0 directories and 75 images in '101_food_classes_10_percent\\train\\pho'.\n",
      "There are 0 directories and 75 images in '101_food_classes_10_percent\\train\\pizza'.\n",
      "There are 0 directories and 75 images in '101_food_classes_10_percent\\train\\pork_chop'.\n",
      "There are 0 directories and 75 images in '101_food_classes_10_percent\\train\\poutine'.\n",
      "There are 0 directories and 75 images in '101_food_classes_10_percent\\train\\prime_rib'.\n",
      "There are 0 directories and 75 images in '101_food_classes_10_percent\\train\\pulled_pork_sandwich'.\n",
      "There are 0 directories and 75 images in '101_food_classes_10_percent\\train\\ramen'.\n",
      "There are 0 directories and 75 images in '101_food_classes_10_percent\\train\\ravioli'.\n",
      "There are 0 directories and 75 images in '101_food_classes_10_percent\\train\\red_velvet_cake'.\n",
      "There are 0 directories and 75 images in '101_food_classes_10_percent\\train\\risotto'.\n",
      "There are 0 directories and 75 images in '101_food_classes_10_percent\\train\\samosa'.\n",
      "There are 0 directories and 75 images in '101_food_classes_10_percent\\train\\sashimi'.\n",
      "There are 0 directories and 75 images in '101_food_classes_10_percent\\train\\scallops'.\n",
      "There are 0 directories and 75 images in '101_food_classes_10_percent\\train\\seaweed_salad'.\n",
      "There are 0 directories and 75 images in '101_food_classes_10_percent\\train\\shrimp_and_grits'.\n",
      "There are 0 directories and 75 images in '101_food_classes_10_percent\\train\\spaghetti_bolognese'.\n",
      "There are 0 directories and 75 images in '101_food_classes_10_percent\\train\\spaghetti_carbonara'.\n",
      "There are 0 directories and 75 images in '101_food_classes_10_percent\\train\\spring_rolls'.\n",
      "There are 0 directories and 75 images in '101_food_classes_10_percent\\train\\steak'.\n",
      "There are 0 directories and 75 images in '101_food_classes_10_percent\\train\\strawberry_shortcake'.\n",
      "There are 0 directories and 75 images in '101_food_classes_10_percent\\train\\sushi'.\n",
      "There are 0 directories and 75 images in '101_food_classes_10_percent\\train\\tacos'.\n",
      "There are 0 directories and 75 images in '101_food_classes_10_percent\\train\\takoyaki'.\n",
      "There are 0 directories and 75 images in '101_food_classes_10_percent\\train\\tiramisu'.\n",
      "There are 0 directories and 75 images in '101_food_classes_10_percent\\train\\tuna_tartare'.\n",
      "There are 0 directories and 75 images in '101_food_classes_10_percent\\train\\waffles'.\n"
     ]
    }
   ],
   "source": [
    "# How many images/classes are there?\n",
    "walk_through_dir(\"101_food_classes_10_percent\")"
   ]
  },
  {
   "cell_type": "code",
   "execution_count": 18,
   "metadata": {},
   "outputs": [
    {
     "name": "stdout",
     "output_type": "stream",
     "text": [
      "Found 7575 files belonging to 101 classes.\n",
      "Found 25250 files belonging to 101 classes.\n"
     ]
    }
   ],
   "source": [
    "img_size = (224, 224)\n",
    "\n",
    "train_data_all_10_percent = tf.keras.preprocessing.image_dataset_from_directory(\n",
    "    train_dir,\n",
    "    image_size=img_size,\n",
    "    label_mode='categorical',\n",
    "    batch_size=32,\n",
    ")\n",
    "\n",
    "test_data_all_10_percent = tf.keras.preprocessing.image_dataset_from_directory(\n",
    "    test_dir,\n",
    "    label_mode='categorical',\n",
    "    batch_size=32,\n",
    "    image_size=img_size,\n",
    "    shuffle = False\n",
    ")"
   ]
  },
  {
   "cell_type": "code",
   "execution_count": 8,
   "metadata": {},
   "outputs": [],
   "source": [
    "# Create checkpoint callback to save model for later use\n",
    "checkpoint_path = \"101_classes_10_percent_data_model_checkpoint\"\n",
    "checkpoint_callback = tf.keras.callbacks.ModelCheckpoint(checkpoint_path,\n",
    "                                                         save_weights_only=True, # save only the model weights\n",
    "                                                         monitor=\"val_accuracy\", # save the model weights which score the best validation accuracy\n",
    "                                                         save_best_only=True) # only keep the best model weights on file (delete the rest)"
   ]
  },
  {
   "cell_type": "code",
   "execution_count": 20,
   "metadata": {},
   "outputs": [],
   "source": [
    "# Import the required modules for model creation\n",
    "from tensorflow.keras import layers\n",
    "from tensorflow.keras.models import Sequential\n",
    "\n",
    "## NEW: Newer versions of TensorFlow (2.10+) can use the tensorflow.keras.layers API directly for data augmentation\n",
    "data_augmentation = Sequential([\n",
    "  layers.RandomFlip(\"horizontal\"),\n",
    "  layers.RandomRotation(0.2),\n",
    "  layers.RandomZoom(0.2),\n",
    "  layers.RandomHeight(0.2),\n",
    "  layers.RandomWidth(0.2),\n",
    "  # preprocessing.Rescaling(1./255) # keep for ResNet50V2, remove for EfficientNetB0\n",
    "], name =\"data_augmentation\")"
   ]
  },
  {
   "cell_type": "code",
   "execution_count": 21,
   "metadata": {},
   "outputs": [
    {
     "name": "stdout",
     "output_type": "stream",
     "text": [
      "Downloading data from https://storage.googleapis.com/keras-applications/efficientnetb0_notop.h5\n",
      "16705208/16705208 [==============================] - 2s 0us/step\n"
     ]
    }
   ],
   "source": [
    "# Setup base model and freeze its layers (this will extract features)\n",
    "base_model = tf.keras.applications.efficientnet.EfficientNetB0(include_top=False)\n",
    "base_model.trainable = False\n",
    "\n",
    "# Setup model architecture with trainable top layers\n",
    "inputs = layers.Input(shape=(224, 224, 3), name=\"input_layer\") # shape of input image\n",
    "x = data_augmentation(inputs) # augment images (only happens during training)\n",
    "x = base_model(x, training=False) # put the base model in inference mode so we can use it to extract features without updating the weights\n",
    "x = layers.GlobalAveragePooling2D(name=\"global_average_pooling\")(x) # pool the outputs of the base model\n",
    "outputs = layers.Dense(len(train_data_all_10_percent.class_names), activation=\"softmax\", name=\"output_layer\")(x) # same number of outputs as classes\n",
    "model = tf.keras.Model(inputs, outputs)"
   ]
  },
  {
   "cell_type": "code",
   "execution_count": 22,
   "metadata": {},
   "outputs": [
    {
     "name": "stdout",
     "output_type": "stream",
     "text": [
      "Model: \"model_1\"\n",
      "_________________________________________________________________\n",
      " Layer (type)                Output Shape              Param #   \n",
      "=================================================================\n",
      " input_layer (InputLayer)    [(None, 224, 224, 3)]     0         \n",
      "                                                                 \n",
      " data_augmentation (Sequenti  (None, 224, 224, 3)      0         \n",
      " al)                                                             \n",
      "                                                                 \n",
      " efficientnetb0 (Functional)  (None, None, None, 1280)  4049571  \n",
      "                                                                 \n",
      " global_average_pooling (Glo  (None, 1280)             0         \n",
      " balAveragePooling2D)                                            \n",
      "                                                                 \n",
      " output_layer (Dense)        (None, 101)               129381    \n",
      "                                                                 \n",
      "=================================================================\n",
      "Total params: 4,178,952\n",
      "Trainable params: 129,381\n",
      "Non-trainable params: 4,049,571\n",
      "_________________________________________________________________\n"
     ]
    }
   ],
   "source": [
    "model.summary()"
   ]
  },
  {
   "cell_type": "code",
   "execution_count": 23,
   "metadata": {},
   "outputs": [
    {
     "name": "stdout",
     "output_type": "stream",
     "text": [
      "Epoch 1/5\n"
     ]
    },
    {
     "name": "stdout",
     "output_type": "stream",
     "text": [
      "WARNING:tensorflow:Using a while_loop for converting RngReadAndSkip cause there is no registered converter for this op.\n",
      "WARNING:tensorflow:Using a while_loop for converting Bitcast cause there is no registered converter for this op.\n",
      "WARNING:tensorflow:Using a while_loop for converting Bitcast cause there is no registered converter for this op.\n",
      "WARNING:tensorflow:Using a while_loop for converting StatelessRandomUniformV2 cause there is no registered converter for this op.\n",
      "WARNING:tensorflow:Using a while_loop for converting ImageProjectiveTransformV3 cause there is no registered converter for this op.\n",
      "WARNING:tensorflow:Using a while_loop for converting RngReadAndSkip cause there is no registered converter for this op.\n",
      "WARNING:tensorflow:Using a while_loop for converting Bitcast cause there is no registered converter for this op.\n",
      "WARNING:tensorflow:Using a while_loop for converting Bitcast cause there is no registered converter for this op.\n",
      "WARNING:tensorflow:Using a while_loop for converting StatelessRandomUniformV2 cause there is no registered converter for this op.\n",
      "WARNING:tensorflow:Using a while_loop for converting ImageProjectiveTransformV3 cause there is no registered converter for this op.\n",
      "WARNING:tensorflow:Using a while_loop for converting RngReadAndSkip cause there is no registered converter for this op.\n",
      "WARNING:tensorflow:Using a while_loop for converting Bitcast cause there is no registered converter for this op.\n",
      "WARNING:tensorflow:Using a while_loop for converting Bitcast cause there is no registered converter for this op.\n",
      "WARNING:tensorflow:Using a while_loop for converting StatelessRandomUniformV2 cause there is no registered converter for this op.\n",
      "WARNING:tensorflow:Using a while_loop for converting ImageProjectiveTransformV3 cause there is no registered converter for this op.\n",
      "WARNING:tensorflow:Using a while_loop for converting RngReadAndSkip cause there is no registered converter for this op.\n",
      "WARNING:tensorflow:Using a while_loop for converting Bitcast cause there is no registered converter for this op.\n",
      "WARNING:tensorflow:Using a while_loop for converting Bitcast cause there is no registered converter for this op.\n",
      "WARNING:tensorflow:Using a while_loop for converting StatelessRandomUniformV2 cause there is no registered converter for this op.\n",
      "WARNING:tensorflow:Using a while_loop for converting ImageProjectiveTransformV3 cause there is no registered converter for this op.\n",
      "237/237 [==============================] - 66s 253ms/step - loss: 3.3715 - accuracy: 0.2696 - val_loss: 2.5729 - val_accuracy: 0.4163\n",
      "Epoch 2/5\n",
      "237/237 [==============================] - 64s 270ms/step - loss: 2.2044 - accuracy: 0.4981 - val_loss: 2.0999 - val_accuracy: 0.4860\n",
      "Epoch 3/5\n",
      "237/237 [==============================] - 66s 279ms/step - loss: 1.8269 - accuracy: 0.5633 - val_loss: 1.9560 - val_accuracy: 0.5087\n",
      "Epoch 4/5\n",
      "237/237 [==============================] - 62s 262ms/step - loss: 1.6067 - accuracy: 0.6051 - val_loss: 1.8600 - val_accuracy: 0.5217\n",
      "Epoch 5/5\n",
      "237/237 [==============================] - 69s 290ms/step - loss: 1.4432 - accuracy: 0.6412 - val_loss: 1.8012 - val_accuracy: 0.5305\n"
     ]
    }
   ],
   "source": [
    "# Compile\n",
    "model.compile(loss=\"categorical_crossentropy\",\n",
    "              optimizer=tf.keras.optimizers.Adam(), # use Adam with default settings\n",
    "              metrics=[\"accuracy\"])\n",
    "\n",
    "# Fit\n",
    "history_all_classes_10_percent = model.fit(train_data_all_10_percent,\n",
    "                                           epochs=5, # fit for 5 epochs to keep experiments quick\n",
    "                                           validation_data=test_data_all_10_percent,\n",
    "                                           validation_steps=int(0.15 * len(test_data_all_10_percent)), # evaluate on smaller portion of test data\n",
    "                                           callbacks=[checkpoint_callback]) # save best model weights to file"
   ]
  },
  {
   "cell_type": "code",
   "execution_count": 24,
   "metadata": {},
   "outputs": [
    {
     "name": "stdout",
     "output_type": "stream",
     "text": [
      "790/790 [==============================] - 53s 67ms/step - loss: 1.5882 - accuracy: 0.5843\n"
     ]
    },
    {
     "data": {
      "text/plain": [
       "[1.5882214307785034, 0.5843168497085571]"
      ]
     },
     "execution_count": 24,
     "metadata": {},
     "output_type": "execute_result"
    }
   ],
   "source": [
    "# Evaluate model \n",
    "results_feature_extraction_model = model.evaluate(test_data_all_10_percent)\n",
    "results_feature_extraction_model"
   ]
  },
  {
   "cell_type": "code",
   "execution_count": 25,
   "metadata": {},
   "outputs": [
    {
     "data": {
      "image/png": "[encoded data removed]",
      "text/plain": [
       "<Figure size 640x480 with 1 Axes>"
      ]
     },
     "metadata": {},
     "output_type": "display_data"
    },
    {
     "data": {
      "image/png": "[encoded data removed]",
      "text/plain": [
       "<Figure size 640x480 with 1 Axes>"
      ]
     },
     "metadata": {},
     "output_type": "display_data"
    }
   ],
   "source": [
    "plot_loss_curves(history_all_classes_10_percent)"
   ]
  },
  {
   "cell_type": "code",
   "execution_count": 26,
   "metadata": {},
   "outputs": [],
   "source": [
    "# Setup base model and freeze its layers (this will extract features)\n",
    "base_model = tf.keras.applications.EfficientNetV2B0(include_top=False)\n",
    "base_model.trainable = False\n",
    "\n",
    "# Setup model architecture with trainable top layers\n",
    "inputs = layers.Input(shape=(224, 224, 3), name=\"input_layer\") # shape of input image\n",
    "x = data_augmentation(inputs) # augment images (only happens during training)\n",
    "x = base_model(x, training=False) # put the base model in inference mode so we can use it to extract features without updating the weights\n",
    "x = layers.GlobalAveragePooling2D(name=\"global_average_pooling\")(x) # pool the outputs of the base model\n",
    "outputs = layers.Dense(len(train_data_all_10_percent.class_names), activation=\"softmax\", name=\"output_layer\")(x) # same number of outputs as classes\n",
    "model_V2 = tf.keras.Model(inputs, outputs)"
   ]
  },
  {
   "cell_type": "code",
   "execution_count": 27,
   "metadata": {},
   "outputs": [
    {
     "name": "stdout",
     "output_type": "stream",
     "text": [
      "Model: \"model_2\"\n",
      "_________________________________________________________________\n",
      " Layer (type)                Output Shape              Param #   \n",
      "=================================================================\n",
      " input_layer (InputLayer)    [(None, 224, 224, 3)]     0         \n",
      "                                                                 \n",
      " data_augmentation (Sequenti  (None, 224, 224, 3)      0         \n",
      " al)                                                             \n",
      "                                                                 \n",
      " efficientnetv2-b0 (Function  (None, None, None, 1280)  5919312  \n",
      " al)                                                             \n",
      "                                                                 \n",
      " global_average_pooling (Glo  (None, 1280)             0         \n",
      " balAveragePooling2D)                                            \n",
      "                                                                 \n",
      " output_layer (Dense)        (None, 101)               129381    \n",
      "                                                                 \n",
      "=================================================================\n",
      "Total params: 6,048,693\n",
      "Trainable params: 129,381\n",
      "Non-trainable params: 5,919,312\n",
      "_________________________________________________________________\n"
     ]
    }
   ],
   "source": [
    "model_V2.summary()"
   ]
  },
  {
   "cell_type": "code",
   "execution_count": 30,
   "metadata": {},
   "outputs": [
    {
     "name": "stdout",
     "output_type": "stream",
     "text": [
      "Epoch 1/5\n"
     ]
    },
    {
     "name": "stdout",
     "output_type": "stream",
     "text": [
      "WARNING:tensorflow:Using a while_loop for converting RngReadAndSkip cause there is no registered converter for this op.\n",
      "WARNING:tensorflow:Using a while_loop for converting Bitcast cause there is no registered converter for this op.\n",
      "WARNING:tensorflow:Using a while_loop for converting Bitcast cause there is no registered converter for this op.\n",
      "WARNING:tensorflow:Using a while_loop for converting StatelessRandomUniformV2 cause there is no registered converter for this op.\n",
      "WARNING:tensorflow:Using a while_loop for converting ImageProjectiveTransformV3 cause there is no registered converter for this op.\n",
      "WARNING:tensorflow:Using a while_loop for converting RngReadAndSkip cause there is no registered converter for this op.\n",
      "WARNING:tensorflow:Using a while_loop for converting Bitcast cause there is no registered converter for this op.\n",
      "WARNING:tensorflow:Using a while_loop for converting Bitcast cause there is no registered converter for this op.\n",
      "WARNING:tensorflow:Using a while_loop for converting StatelessRandomUniformV2 cause there is no registered converter for this op.\n",
      "WARNING:tensorflow:Using a while_loop for converting ImageProjectiveTransformV3 cause there is no registered converter for this op.\n",
      "WARNING:tensorflow:Using a while_loop for converting RngReadAndSkip cause there is no registered converter for this op.\n",
      "WARNING:tensorflow:Using a while_loop for converting Bitcast cause there is no registered converter for this op.\n",
      "WARNING:tensorflow:Using a while_loop for converting Bitcast cause there is no registered converter for this op.\n",
      "WARNING:tensorflow:Using a while_loop for converting StatelessRandomUniformV2 cause there is no registered converter for this op.\n",
      "WARNING:tensorflow:Using a while_loop for converting ImageProjectiveTransformV3 cause there is no registered converter for this op.\n",
      "WARNING:tensorflow:Using a while_loop for converting RngReadAndSkip cause there is no registered converter for this op.\n",
      "WARNING:tensorflow:Using a while_loop for converting Bitcast cause there is no registered converter for this op.\n",
      "WARNING:tensorflow:Using a while_loop for converting Bitcast cause there is no registered converter for this op.\n",
      "WARNING:tensorflow:Using a while_loop for converting StatelessRandomUniformV2 cause there is no registered converter for this op.\n",
      "WARNING:tensorflow:Using a while_loop for converting ImageProjectiveTransformV3 cause there is no registered converter for this op.\n",
      "237/237 [==============================] - 74s 277ms/step - loss: 1.6933 - accuracy: 0.5741 - val_loss: 1.8732 - val_accuracy: 0.5196\n",
      "Epoch 2/5\n",
      "237/237 [==============================] - 66s 277ms/step - loss: 1.5611 - accuracy: 0.6116 - val_loss: 1.8541 - val_accuracy: 0.5238\n",
      "Epoch 3/5\n",
      " 13/237 [>.............................] - ETA: 56s - loss: 1.4701 - accuracy: 0.6418"
     ]
    },
    {
     "ename": "KeyboardInterrupt",
     "evalue": "",
     "output_type": "error",
     "traceback": [
      "\u001b[1;31m---------------------------------------------------------------------------\u001b[0m",
      "\u001b[1;31mKeyboardInterrupt\u001b[0m                         Traceback (most recent call last)",
      "Cell \u001b[1;32mIn[30], line 7\u001b[0m\n\u001b[0;32m      2\u001b[0m model_V2\u001b[38;5;241m.\u001b[39mcompile(loss\u001b[38;5;241m=\u001b[39m\u001b[38;5;124m\"\u001b[39m\u001b[38;5;124mcategorical_crossentropy\u001b[39m\u001b[38;5;124m\"\u001b[39m,\n\u001b[0;32m      3\u001b[0m               optimizer\u001b[38;5;241m=\u001b[39mtf\u001b[38;5;241m.\u001b[39mkeras\u001b[38;5;241m.\u001b[39moptimizers\u001b[38;5;241m.\u001b[39mAdam(), \u001b[38;5;66;03m# use Adam with default settings\u001b[39;00m\n\u001b[0;32m      4\u001b[0m               metrics\u001b[38;5;241m=\u001b[39m[\u001b[38;5;124m\"\u001b[39m\u001b[38;5;124maccuracy\u001b[39m\u001b[38;5;124m\"\u001b[39m])\n\u001b[0;32m      6\u001b[0m \u001b[38;5;66;03m# Fit\u001b[39;00m\n\u001b[1;32m----> 7\u001b[0m history_all_classes_10_percent_model_V2 \u001b[38;5;241m=\u001b[39m \u001b[43mmodel_V2\u001b[49m\u001b[38;5;241;43m.\u001b[39;49m\u001b[43mfit\u001b[49m\u001b[43m(\u001b[49m\u001b[43mtrain_data_all_10_percent\u001b[49m\u001b[43m,\u001b[49m\n\u001b[0;32m      8\u001b[0m \u001b[43m                                           \u001b[49m\u001b[43mepochs\u001b[49m\u001b[38;5;241;43m=\u001b[39;49m\u001b[38;5;241;43m5\u001b[39;49m\u001b[43m,\u001b[49m\u001b[43m \u001b[49m\u001b[38;5;66;43;03m# fit for 5 epochs to keep experiments quick\u001b[39;49;00m\n\u001b[0;32m      9\u001b[0m \u001b[43m                                           \u001b[49m\u001b[43mvalidation_data\u001b[49m\u001b[38;5;241;43m=\u001b[39;49m\u001b[43mtest_data_all_10_percent\u001b[49m\u001b[43m,\u001b[49m\n\u001b[0;32m     10\u001b[0m \u001b[43m                                           \u001b[49m\u001b[43mvalidation_steps\u001b[49m\u001b[38;5;241;43m=\u001b[39;49m\u001b[38;5;28;43mint\u001b[39;49m\u001b[43m(\u001b[49m\u001b[38;5;241;43m0.15\u001b[39;49m\u001b[43m \u001b[49m\u001b[38;5;241;43m*\u001b[39;49m\u001b[43m \u001b[49m\u001b[38;5;28;43mlen\u001b[39;49m\u001b[43m(\u001b[49m\u001b[43mtest_data_all_10_percent\u001b[49m\u001b[43m)\u001b[49m\u001b[43m)\u001b[49m\u001b[43m,\u001b[49m\u001b[43m \u001b[49m\u001b[38;5;66;43;03m# evaluate on smaller portion of test data\u001b[39;49;00m\n\u001b[0;32m     11\u001b[0m \u001b[43m                                           \u001b[49m\u001b[43mcallbacks\u001b[49m\u001b[38;5;241;43m=\u001b[39;49m\u001b[43m[\u001b[49m\u001b[43mcheckpoint_callback\u001b[49m\u001b[43m]\u001b[49m\u001b[43m)\u001b[49m \u001b[38;5;66;03m# save best model weights to file\u001b[39;00m\n",
      "File \u001b[1;32mc:\\Deep_Learning\\TensorFlow_For_Deep_Learning\\new_venv\\lib\\site-packages\\keras\\utils\\traceback_utils.py:65\u001b[0m, in \u001b[0;36mfilter_traceback.<locals>.error_handler\u001b[1;34m(*args, **kwargs)\u001b[0m\n\u001b[0;32m     63\u001b[0m filtered_tb \u001b[38;5;241m=\u001b[39m \u001b[38;5;28;01mNone\u001b[39;00m\n\u001b[0;32m     64\u001b[0m \u001b[38;5;28;01mtry\u001b[39;00m:\n\u001b[1;32m---> 65\u001b[0m     \u001b[38;5;28;01mreturn\u001b[39;00m \u001b[43mfn\u001b[49m\u001b[43m(\u001b[49m\u001b[38;5;241;43m*\u001b[39;49m\u001b[43margs\u001b[49m\u001b[43m,\u001b[49m\u001b[43m \u001b[49m\u001b[38;5;241;43m*\u001b[39;49m\u001b[38;5;241;43m*\u001b[39;49m\u001b[43mkwargs\u001b[49m\u001b[43m)\u001b[49m\n\u001b[0;32m     66\u001b[0m \u001b[38;5;28;01mexcept\u001b[39;00m \u001b[38;5;167;01mException\u001b[39;00m \u001b[38;5;28;01mas\u001b[39;00m e:\n\u001b[0;32m     67\u001b[0m     filtered_tb \u001b[38;5;241m=\u001b[39m _process_traceback_frames(e\u001b[38;5;241m.\u001b[39m__traceback__)\n",
      "File \u001b[1;32mc:\\Deep_Learning\\TensorFlow_For_Deep_Learning\\new_venv\\lib\\site-packages\\keras\\engine\\training.py:1564\u001b[0m, in \u001b[0;36mModel.fit\u001b[1;34m(self, x, y, batch_size, epochs, verbose, callbacks, validation_split, validation_data, shuffle, class_weight, sample_weight, initial_epoch, steps_per_epoch, validation_steps, validation_batch_size, validation_freq, max_queue_size, workers, use_multiprocessing)\u001b[0m\n\u001b[0;32m   1556\u001b[0m \u001b[38;5;28;01mwith\u001b[39;00m tf\u001b[38;5;241m.\u001b[39mprofiler\u001b[38;5;241m.\u001b[39mexperimental\u001b[38;5;241m.\u001b[39mTrace(\n\u001b[0;32m   1557\u001b[0m     \u001b[38;5;124m\"\u001b[39m\u001b[38;5;124mtrain\u001b[39m\u001b[38;5;124m\"\u001b[39m,\n\u001b[0;32m   1558\u001b[0m     epoch_num\u001b[38;5;241m=\u001b[39mepoch,\n\u001b[1;32m   (...)\u001b[0m\n\u001b[0;32m   1561\u001b[0m     _r\u001b[38;5;241m=\u001b[39m\u001b[38;5;241m1\u001b[39m,\n\u001b[0;32m   1562\u001b[0m ):\n\u001b[0;32m   1563\u001b[0m     callbacks\u001b[38;5;241m.\u001b[39mon_train_batch_begin(step)\n\u001b[1;32m-> 1564\u001b[0m     tmp_logs \u001b[38;5;241m=\u001b[39m \u001b[38;5;28;43mself\u001b[39;49m\u001b[38;5;241;43m.\u001b[39;49m\u001b[43mtrain_function\u001b[49m\u001b[43m(\u001b[49m\u001b[43miterator\u001b[49m\u001b[43m)\u001b[49m\n\u001b[0;32m   1565\u001b[0m     \u001b[38;5;28;01mif\u001b[39;00m data_handler\u001b[38;5;241m.\u001b[39mshould_sync:\n\u001b[0;32m   1566\u001b[0m         context\u001b[38;5;241m.\u001b[39masync_wait()\n",
      "File \u001b[1;32mc:\\Deep_Learning\\TensorFlow_For_Deep_Learning\\new_venv\\lib\\site-packages\\tensorflow\\python\\util\\traceback_utils.py:150\u001b[0m, in \u001b[0;36mfilter_traceback.<locals>.error_handler\u001b[1;34m(*args, **kwargs)\u001b[0m\n\u001b[0;32m    148\u001b[0m filtered_tb \u001b[38;5;241m=\u001b[39m \u001b[38;5;28;01mNone\u001b[39;00m\n\u001b[0;32m    149\u001b[0m \u001b[38;5;28;01mtry\u001b[39;00m:\n\u001b[1;32m--> 150\u001b[0m   \u001b[38;5;28;01mreturn\u001b[39;00m \u001b[43mfn\u001b[49m\u001b[43m(\u001b[49m\u001b[38;5;241;43m*\u001b[39;49m\u001b[43margs\u001b[49m\u001b[43m,\u001b[49m\u001b[43m \u001b[49m\u001b[38;5;241;43m*\u001b[39;49m\u001b[38;5;241;43m*\u001b[39;49m\u001b[43mkwargs\u001b[49m\u001b[43m)\u001b[49m\n\u001b[0;32m    151\u001b[0m \u001b[38;5;28;01mexcept\u001b[39;00m \u001b[38;5;167;01mException\u001b[39;00m \u001b[38;5;28;01mas\u001b[39;00m e:\n\u001b[0;32m    152\u001b[0m   filtered_tb \u001b[38;5;241m=\u001b[39m _process_traceback_frames(e\u001b[38;5;241m.\u001b[39m__traceback__)\n",
      "File \u001b[1;32mc:\\Deep_Learning\\TensorFlow_For_Deep_Learning\\new_venv\\lib\\site-packages\\tensorflow\\python\\eager\\def_function.py:915\u001b[0m, in \u001b[0;36mFunction.__call__\u001b[1;34m(self, *args, **kwds)\u001b[0m\n\u001b[0;32m    912\u001b[0m compiler \u001b[38;5;241m=\u001b[39m \u001b[38;5;124m\"\u001b[39m\u001b[38;5;124mxla\u001b[39m\u001b[38;5;124m\"\u001b[39m \u001b[38;5;28;01mif\u001b[39;00m \u001b[38;5;28mself\u001b[39m\u001b[38;5;241m.\u001b[39m_jit_compile \u001b[38;5;28;01melse\u001b[39;00m \u001b[38;5;124m\"\u001b[39m\u001b[38;5;124mnonXla\u001b[39m\u001b[38;5;124m\"\u001b[39m\n\u001b[0;32m    914\u001b[0m \u001b[38;5;28;01mwith\u001b[39;00m OptionalXlaContext(\u001b[38;5;28mself\u001b[39m\u001b[38;5;241m.\u001b[39m_jit_compile):\n\u001b[1;32m--> 915\u001b[0m   result \u001b[38;5;241m=\u001b[39m \u001b[38;5;28;43mself\u001b[39;49m\u001b[38;5;241;43m.\u001b[39;49m\u001b[43m_call\u001b[49m\u001b[43m(\u001b[49m\u001b[38;5;241;43m*\u001b[39;49m\u001b[43margs\u001b[49m\u001b[43m,\u001b[49m\u001b[43m \u001b[49m\u001b[38;5;241;43m*\u001b[39;49m\u001b[38;5;241;43m*\u001b[39;49m\u001b[43mkwds\u001b[49m\u001b[43m)\u001b[49m\n\u001b[0;32m    917\u001b[0m new_tracing_count \u001b[38;5;241m=\u001b[39m \u001b[38;5;28mself\u001b[39m\u001b[38;5;241m.\u001b[39mexperimental_get_tracing_count()\n\u001b[0;32m    918\u001b[0m without_tracing \u001b[38;5;241m=\u001b[39m (tracing_count \u001b[38;5;241m==\u001b[39m new_tracing_count)\n",
      "File \u001b[1;32mc:\\Deep_Learning\\TensorFlow_For_Deep_Learning\\new_venv\\lib\\site-packages\\tensorflow\\python\\eager\\def_function.py:947\u001b[0m, in \u001b[0;36mFunction._call\u001b[1;34m(self, *args, **kwds)\u001b[0m\n\u001b[0;32m    944\u001b[0m   \u001b[38;5;28mself\u001b[39m\u001b[38;5;241m.\u001b[39m_lock\u001b[38;5;241m.\u001b[39mrelease()\n\u001b[0;32m    945\u001b[0m   \u001b[38;5;66;03m# In this case we have created variables on the first call, so we run the\u001b[39;00m\n\u001b[0;32m    946\u001b[0m   \u001b[38;5;66;03m# defunned version which is guaranteed to never create variables.\u001b[39;00m\n\u001b[1;32m--> 947\u001b[0m   \u001b[38;5;28;01mreturn\u001b[39;00m \u001b[38;5;28;43mself\u001b[39;49m\u001b[38;5;241;43m.\u001b[39;49m\u001b[43m_stateless_fn\u001b[49m\u001b[43m(\u001b[49m\u001b[38;5;241;43m*\u001b[39;49m\u001b[43margs\u001b[49m\u001b[43m,\u001b[49m\u001b[43m \u001b[49m\u001b[38;5;241;43m*\u001b[39;49m\u001b[38;5;241;43m*\u001b[39;49m\u001b[43mkwds\u001b[49m\u001b[43m)\u001b[49m  \u001b[38;5;66;03m# pylint: disable=not-callable\u001b[39;00m\n\u001b[0;32m    948\u001b[0m \u001b[38;5;28;01melif\u001b[39;00m \u001b[38;5;28mself\u001b[39m\u001b[38;5;241m.\u001b[39m_stateful_fn \u001b[38;5;129;01mis\u001b[39;00m \u001b[38;5;129;01mnot\u001b[39;00m \u001b[38;5;28;01mNone\u001b[39;00m:\n\u001b[0;32m    949\u001b[0m   \u001b[38;5;66;03m# Release the lock early so that multiple threads can perform the call\u001b[39;00m\n\u001b[0;32m    950\u001b[0m   \u001b[38;5;66;03m# in parallel.\u001b[39;00m\n\u001b[0;32m    951\u001b[0m   \u001b[38;5;28mself\u001b[39m\u001b[38;5;241m.\u001b[39m_lock\u001b[38;5;241m.\u001b[39mrelease()\n",
      "File \u001b[1;32mc:\\Deep_Learning\\TensorFlow_For_Deep_Learning\\new_venv\\lib\\site-packages\\tensorflow\\python\\eager\\function.py:2496\u001b[0m, in \u001b[0;36mFunction.__call__\u001b[1;34m(self, *args, **kwargs)\u001b[0m\n\u001b[0;32m   2493\u001b[0m \u001b[38;5;28;01mwith\u001b[39;00m \u001b[38;5;28mself\u001b[39m\u001b[38;5;241m.\u001b[39m_lock:\n\u001b[0;32m   2494\u001b[0m   (graph_function,\n\u001b[0;32m   2495\u001b[0m    filtered_flat_args) \u001b[38;5;241m=\u001b[39m \u001b[38;5;28mself\u001b[39m\u001b[38;5;241m.\u001b[39m_maybe_define_function(args, kwargs)\n\u001b[1;32m-> 2496\u001b[0m \u001b[38;5;28;01mreturn\u001b[39;00m \u001b[43mgraph_function\u001b[49m\u001b[38;5;241;43m.\u001b[39;49m\u001b[43m_call_flat\u001b[49m\u001b[43m(\u001b[49m\n\u001b[0;32m   2497\u001b[0m \u001b[43m    \u001b[49m\u001b[43mfiltered_flat_args\u001b[49m\u001b[43m,\u001b[49m\u001b[43m \u001b[49m\u001b[43mcaptured_inputs\u001b[49m\u001b[38;5;241;43m=\u001b[39;49m\u001b[43mgraph_function\u001b[49m\u001b[38;5;241;43m.\u001b[39;49m\u001b[43mcaptured_inputs\u001b[49m\u001b[43m)\u001b[49m\n",
      "File \u001b[1;32mc:\\Deep_Learning\\TensorFlow_For_Deep_Learning\\new_venv\\lib\\site-packages\\tensorflow\\python\\eager\\function.py:1862\u001b[0m, in \u001b[0;36mConcreteFunction._call_flat\u001b[1;34m(self, args, captured_inputs, cancellation_manager)\u001b[0m\n\u001b[0;32m   1858\u001b[0m possible_gradient_type \u001b[38;5;241m=\u001b[39m gradients_util\u001b[38;5;241m.\u001b[39mPossibleTapeGradientTypes(args)\n\u001b[0;32m   1859\u001b[0m \u001b[38;5;28;01mif\u001b[39;00m (possible_gradient_type \u001b[38;5;241m==\u001b[39m gradients_util\u001b[38;5;241m.\u001b[39mPOSSIBLE_GRADIENT_TYPES_NONE\n\u001b[0;32m   1860\u001b[0m     \u001b[38;5;129;01mand\u001b[39;00m executing_eagerly):\n\u001b[0;32m   1861\u001b[0m   \u001b[38;5;66;03m# No tape is watching; skip to running the function.\u001b[39;00m\n\u001b[1;32m-> 1862\u001b[0m   \u001b[38;5;28;01mreturn\u001b[39;00m \u001b[38;5;28mself\u001b[39m\u001b[38;5;241m.\u001b[39m_build_call_outputs(\u001b[38;5;28;43mself\u001b[39;49m\u001b[38;5;241;43m.\u001b[39;49m\u001b[43m_inference_function\u001b[49m\u001b[38;5;241;43m.\u001b[39;49m\u001b[43mcall\u001b[49m\u001b[43m(\u001b[49m\n\u001b[0;32m   1863\u001b[0m \u001b[43m      \u001b[49m\u001b[43mctx\u001b[49m\u001b[43m,\u001b[49m\u001b[43m \u001b[49m\u001b[43margs\u001b[49m\u001b[43m,\u001b[49m\u001b[43m \u001b[49m\u001b[43mcancellation_manager\u001b[49m\u001b[38;5;241;43m=\u001b[39;49m\u001b[43mcancellation_manager\u001b[49m\u001b[43m)\u001b[49m)\n\u001b[0;32m   1864\u001b[0m forward_backward \u001b[38;5;241m=\u001b[39m \u001b[38;5;28mself\u001b[39m\u001b[38;5;241m.\u001b[39m_select_forward_and_backward_functions(\n\u001b[0;32m   1865\u001b[0m     args,\n\u001b[0;32m   1866\u001b[0m     possible_gradient_type,\n\u001b[0;32m   1867\u001b[0m     executing_eagerly)\n\u001b[0;32m   1868\u001b[0m forward_function, args_with_tangents \u001b[38;5;241m=\u001b[39m forward_backward\u001b[38;5;241m.\u001b[39mforward()\n",
      "File \u001b[1;32mc:\\Deep_Learning\\TensorFlow_For_Deep_Learning\\new_venv\\lib\\site-packages\\tensorflow\\python\\eager\\function.py:499\u001b[0m, in \u001b[0;36m_EagerDefinedFunction.call\u001b[1;34m(self, ctx, args, cancellation_manager)\u001b[0m\n\u001b[0;32m    497\u001b[0m \u001b[38;5;28;01mwith\u001b[39;00m _InterpolateFunctionError(\u001b[38;5;28mself\u001b[39m):\n\u001b[0;32m    498\u001b[0m   \u001b[38;5;28;01mif\u001b[39;00m cancellation_manager \u001b[38;5;129;01mis\u001b[39;00m \u001b[38;5;28;01mNone\u001b[39;00m:\n\u001b[1;32m--> 499\u001b[0m     outputs \u001b[38;5;241m=\u001b[39m \u001b[43mexecute\u001b[49m\u001b[38;5;241;43m.\u001b[39;49m\u001b[43mexecute\u001b[49m\u001b[43m(\u001b[49m\n\u001b[0;32m    500\u001b[0m \u001b[43m        \u001b[49m\u001b[38;5;28;43mstr\u001b[39;49m\u001b[43m(\u001b[49m\u001b[38;5;28;43mself\u001b[39;49m\u001b[38;5;241;43m.\u001b[39;49m\u001b[43msignature\u001b[49m\u001b[38;5;241;43m.\u001b[39;49m\u001b[43mname\u001b[49m\u001b[43m)\u001b[49m\u001b[43m,\u001b[49m\n\u001b[0;32m    501\u001b[0m \u001b[43m        \u001b[49m\u001b[43mnum_outputs\u001b[49m\u001b[38;5;241;43m=\u001b[39;49m\u001b[38;5;28;43mself\u001b[39;49m\u001b[38;5;241;43m.\u001b[39;49m\u001b[43m_num_outputs\u001b[49m\u001b[43m,\u001b[49m\n\u001b[0;32m    502\u001b[0m \u001b[43m        \u001b[49m\u001b[43minputs\u001b[49m\u001b[38;5;241;43m=\u001b[39;49m\u001b[43margs\u001b[49m\u001b[43m,\u001b[49m\n\u001b[0;32m    503\u001b[0m \u001b[43m        \u001b[49m\u001b[43mattrs\u001b[49m\u001b[38;5;241;43m=\u001b[39;49m\u001b[43mattrs\u001b[49m\u001b[43m,\u001b[49m\n\u001b[0;32m    504\u001b[0m \u001b[43m        \u001b[49m\u001b[43mctx\u001b[49m\u001b[38;5;241;43m=\u001b[39;49m\u001b[43mctx\u001b[49m\u001b[43m)\u001b[49m\n\u001b[0;32m    505\u001b[0m   \u001b[38;5;28;01melse\u001b[39;00m:\n\u001b[0;32m    506\u001b[0m     outputs \u001b[38;5;241m=\u001b[39m execute\u001b[38;5;241m.\u001b[39mexecute_with_cancellation(\n\u001b[0;32m    507\u001b[0m         \u001b[38;5;28mstr\u001b[39m(\u001b[38;5;28mself\u001b[39m\u001b[38;5;241m.\u001b[39msignature\u001b[38;5;241m.\u001b[39mname),\n\u001b[0;32m    508\u001b[0m         num_outputs\u001b[38;5;241m=\u001b[39m\u001b[38;5;28mself\u001b[39m\u001b[38;5;241m.\u001b[39m_num_outputs,\n\u001b[1;32m   (...)\u001b[0m\n\u001b[0;32m    511\u001b[0m         ctx\u001b[38;5;241m=\u001b[39mctx,\n\u001b[0;32m    512\u001b[0m         cancellation_manager\u001b[38;5;241m=\u001b[39mcancellation_manager)\n",
      "File \u001b[1;32mc:\\Deep_Learning\\TensorFlow_For_Deep_Learning\\new_venv\\lib\\site-packages\\tensorflow\\python\\eager\\execute.py:54\u001b[0m, in \u001b[0;36mquick_execute\u001b[1;34m(op_name, num_outputs, inputs, attrs, ctx, name)\u001b[0m\n\u001b[0;32m     52\u001b[0m \u001b[38;5;28;01mtry\u001b[39;00m:\n\u001b[0;32m     53\u001b[0m   ctx\u001b[38;5;241m.\u001b[39mensure_initialized()\n\u001b[1;32m---> 54\u001b[0m   tensors \u001b[38;5;241m=\u001b[39m \u001b[43mpywrap_tfe\u001b[49m\u001b[38;5;241;43m.\u001b[39;49m\u001b[43mTFE_Py_Execute\u001b[49m\u001b[43m(\u001b[49m\u001b[43mctx\u001b[49m\u001b[38;5;241;43m.\u001b[39;49m\u001b[43m_handle\u001b[49m\u001b[43m,\u001b[49m\u001b[43m \u001b[49m\u001b[43mdevice_name\u001b[49m\u001b[43m,\u001b[49m\u001b[43m \u001b[49m\u001b[43mop_name\u001b[49m\u001b[43m,\u001b[49m\n\u001b[0;32m     55\u001b[0m \u001b[43m                                      \u001b[49m\u001b[43minputs\u001b[49m\u001b[43m,\u001b[49m\u001b[43m \u001b[49m\u001b[43mattrs\u001b[49m\u001b[43m,\u001b[49m\u001b[43m \u001b[49m\u001b[43mnum_outputs\u001b[49m\u001b[43m)\u001b[49m\n\u001b[0;32m     56\u001b[0m \u001b[38;5;28;01mexcept\u001b[39;00m core\u001b[38;5;241m.\u001b[39m_NotOkStatusException \u001b[38;5;28;01mas\u001b[39;00m e:\n\u001b[0;32m     57\u001b[0m   \u001b[38;5;28;01mif\u001b[39;00m name \u001b[38;5;129;01mis\u001b[39;00m \u001b[38;5;129;01mnot\u001b[39;00m \u001b[38;5;28;01mNone\u001b[39;00m:\n",
      "\u001b[1;31mKeyboardInterrupt\u001b[0m: "
     ]
    }
   ],
   "source": [
    "# Compile\n",
    "model_V2.compile(loss=\"categorical_crossentropy\",\n",
    "              optimizer=tf.keras.optimizers.Adam(), # use Adam with default settings\n",
    "              metrics=[\"accuracy\"])\n",
    "\n",
    "# Fit\n",
    "history_all_classes_10_percent_model_V2 = model_V2.fit(train_data_all_10_percent,\n",
    "                                           epochs=5, # fit for 5 epochs to keep experiments quick\n",
    "                                           validation_data=test_data_all_10_percent,\n",
    "                                           validation_steps=int(0.15 * len(test_data_all_10_percent)), # evaluate on smaller portion of test data\n",
    "                                           callbacks=[checkpoint_callback]) # save best model weights to file"
   ]
  },
  {
   "cell_type": "code",
   "execution_count": 31,
   "metadata": {},
   "outputs": [
    {
     "name": "stdout",
     "output_type": "stream",
     "text": [
      "790/790 [==============================] - 55s 69ms/step - loss: 1.5859 - accuracy: 0.5800\n"
     ]
    },
    {
     "data": {
      "text/plain": [
       "[1.5859391689300537, 0.5799999833106995]"
      ]
     },
     "execution_count": 31,
     "metadata": {},
     "output_type": "execute_result"
    }
   ],
   "source": [
    "# Evaluate model \n",
    "results_feature_extraction_model_model_V2 = model_V2.evaluate(test_data_all_10_percent)\n",
    "results_feature_extraction_model_model_V2"
   ]
  },
  {
   "cell_type": "code",
   "execution_count": null,
   "metadata": {},
   "outputs": [],
   "source": []
  }
 ],
 "metadata": {
  "kernelspec": {
   "display_name": "Python 3",
   "language": "python",
   "name": "python3"
  },
  "language_info": {
   "codemirror_mode": {
    "name": "ipython",
    "version": 3
   },
   "file_extension": ".py",
   "mimetype": "text/x-python",
   "name": "python",
   "nbconvert_exporter": "python",
   "pygments_lexer": "ipython3",
   "version": "3.8.20"
  }
 },
 "nbformat": 4,
 "nbformat_minor": 2
}
